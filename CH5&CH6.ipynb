{
 "cells": [
  {
   "cell_type": "code",
   "execution_count": null,
   "metadata": {},
   "outputs": [],
   "source": [
    "numerator = eval(input(\"請輸入分子:\"))\n",
    "denominator = eval(input(\"請輸入分母:\"))\n",
    "if denominator != 0:\n",
    "    ans = numerator/denominator\n",
    "    print(numerator,\"/\",denominator,\"=\",ans)\n",
    "print(\"over\")"
   ]
  },
  {
   "cell_type": "code",
   "execution_count": null,
   "metadata": {},
   "outputs": [],
   "source": [
    "number = eval(input(\"please input a number:\"))\n",
    "if number %5 == 0:\n",
    "    print(number,\"is 5's muiliple\")\n",
    "print(\"over\")"
   ]
  },
  {
   "cell_type": "code",
   "execution_count": null,
   "metadata": {},
   "outputs": [],
   "source": [
    "numerator = eval(input(\"請輸入分子:\"))\n",
    "denominator = eval(input(\"請輸入分母:\"))\n",
    "if denominator != 0:\n",
    "    ans = numerator/denominator\n",
    "    print(numerator,\"/\",denominator,\"=\",ans)\n",
    "else:\n",
    "    print(\"分母不可為0\")\n",
    "print(\"over\")"
   ]
  },
  {
   "cell_type": "code",
   "execution_count": null,
   "metadata": {},
   "outputs": [],
   "source": [
    "num = eval(input(\"please input a number:\"))\n",
    "if num %2 == 0:\n",
    "    print(num,\"is an even number.\")\n",
    "else:\n",
    "    print(num,\"is a odd number.\")\n",
    "print(\"over\")"
   ]
  },
  {
   "cell_type": "code",
   "execution_count": null,
   "metadata": {},
   "outputs": [],
   "source": [
    "number = eval(input(\"please input a number:\"))\n",
    "if number>0:\n",
    "    print(number,\"is greater than 0\")\n",
    "else:\n",
    "    if number<0:\n",
    "        print(number,\"is less than 0\")\n",
    "    else:\n",
    "        print(number,\"is equal to 0\")\n",
    "print(\"over\")"
   ]
  },
  {
   "cell_type": "code",
   "execution_count": null,
   "metadata": {},
   "outputs": [],
   "source": [
    "number = eval(input(\"please input a number:\"))\n",
    "if number>0:\n",
    "    print(number,\"is greater than 0\")\n",
    "elif number<0:\n",
    "    print(number,\"is less than 0\")\n",
    "else:\n",
    "    print(number,\"is equal to 0\")\n",
    "print(\"over\")"
   ]
  },
  {
   "cell_type": "code",
   "execution_count": null,
   "metadata": {},
   "outputs": [],
   "source": [
    "score = eval(input(\"please input your score:\"))\n",
    "if score>= 80:\n",
    "    print(\"grade a\")\n",
    "elif score >= 70:\n",
    "    print(\"grade b\")\n",
    "elif score >= 60:\n",
    "    print(\"grade c\")\n",
    "elif score>= 50:\n",
    "    print(\"grade d\")\n",
    "else:\n",
    "    print(\"grade e\")"
   ]
  },
  {
   "cell_type": "code",
   "execution_count": null,
   "metadata": {},
   "outputs": [],
   "source": [
    "weight = eval(input(\"please input your weight (kilogram):\"))\n",
    "height = eval(input(\"please input your height (centimeter):\"))\n",
    "heightInmeters = height/100\n",
    "\n",
    "bmi = weight/(heightInmeters*heightInmeters)\n",
    "print(\"your bmi is\",format(bmi,\".2f\"))\n",
    "\n",
    "if bmi < 18.5:\n",
    "    print(\"underweight\")\n",
    "elif bmi < 25:\n",
    "    print(\"normal\")\n",
    "elif bmi < 30:\n",
    "    print(\"overweight\")\n",
    "else:\n",
    "    print(\"obese\")\n"
   ]
  },
  {
   "cell_type": "code",
   "execution_count": null,
   "metadata": {},
   "outputs": [],
   "source": [
    "year = eval(input(\"please enter which year?\"))\n",
    "if year %400 == 0 or (year% 4 == 0 and year %100 != 0):\n",
    "    print(year,\"is leap year\")\n",
    "else:\n",
    "    print(year,\"is not leap year\")"
   ]
  },
  {
   "cell_type": "code",
   "execution_count": null,
   "metadata": {},
   "outputs": [],
   "source": [
    "year = eval(input(\"olease enter which year?\"))\n",
    "cond1 = year%400 == 0\n",
    "cond2 = year%4 == 0\n",
    "cond3 = year%100 != 0\n",
    "if cond1 or (cond2 and cond3):\n",
    "    print(year,\"is leap year\")\n",
    "else:\n",
    "    print(year,\"is not leap year\")"
   ]
  },
  {
   "cell_type": "code",
   "execution_count": null,
   "metadata": {},
   "outputs": [],
   "source": [
    "number = eval(input(\"please enter a number:\"))\n",
    "\n",
    "if number >= 0:\n",
    "    print(number)\n",
    "else:\n",
    "    print(-number)"
   ]
  },
  {
   "cell_type": "code",
   "execution_count": null,
   "metadata": {},
   "outputs": [],
   "source": [
    "score = eval(input(\"enter your score:\"))\n",
    "if score >= 60:\n",
    "    print(\"you pass\")\n",
    "else:\n",
    "    print(\"you fail\")"
   ]
  },
  {
   "cell_type": "code",
   "execution_count": null,
   "metadata": {},
   "outputs": [],
   "source": [
    "number1 = eval(input(\"enter number1:\"))\n",
    "number2 = eval(input(\"enter number2:\"))\n",
    "\n",
    "operator = input(\"enter an arthmetic operator(+,-,*,/):\")\n",
    "result = 0\n",
    "flag = 0\n",
    "if operator == \"+\":\n",
    "    result = number1 + number2\n",
    "elif operator == \"-\":\n",
    "    result = number1 - number2\n",
    "elif operator == \"*\":\n",
    "    result = number1 * number2\n",
    "elif operator == \"/\":\n",
    "    result = number1 / number2 \n",
    "else:\n",
    "    flag = 1\n",
    "    print(\"invalid operator\")\n",
    "if flag != 1 :\n",
    "    print(\"%.4f %c %.4f = %.4f\" %(number1,operator,number2,result))"
   ]
  },
  {
   "cell_type": "code",
   "execution_count": null,
   "metadata": {},
   "outputs": [],
   "source": [
    "age = eval(input(\"請輸入年齡:\"))\n",
    "state = \"\"\n",
    "\n",
    "if age < 6 :\n",
    "    state = \"童年\"\n",
    "elif age <= 17:\n",
    "    state = \"少年\"\n",
    "elif age <= 40:\n",
    "    state = \"青年\"\n",
    "elif age <= 65:\n",
    "    state = \"中年\"\n",
    "else:\n",
    "    state = \"老年\"\n",
    "\n",
    "print(\"您的年齡屬於%s\" % state)"
   ]
  },
  {
   "cell_type": "code",
   "execution_count": null,
   "metadata": {},
   "outputs": [],
   "source": [
    "day = 0\n",
    "question1 = \"is your birthday in set1?\\n\" + \\\n",
    "    \"1 3 5 7\\n\" + \\\n",
    "    \"9 11 13 15\\n\" + \\\n",
    "    \"17 19 21 23\\n\" + \\\n",
    "    \"25 27 29 31\\n\" + \\\n",
    "    \"\\nenter 1 for yes and 0 for no:\"\n",
    "answer = eval(input(question1))\n",
    "\n",
    "if answer == 1:\n",
    "    day += 1\n",
    "    \n",
    "question2 = \"is your birthday in set2?\\n\" + \\\n",
    "    \"2 3 6 7\\n\" + \\\n",
    "    \"10 11 14 15\\n\" + \\\n",
    "    \"18 19 22 23\\n\" + \\\n",
    "    \"26 27 30 31\\n\" + \\\n",
    "    \"\\nenter 1 for yes and 0 for no:\"\n",
    "answer = eval(input(question2))\n",
    "\n",
    "if answer == 1:\n",
    "    day += 2\n",
    "question3 = \"is your birthday in set3?\\n\" + \\\n",
    "    \"4 5 6 7\\n\" + \\\n",
    "    \"12 13 14 15\\n\" + \\\n",
    "    \"20 21 22 23\\n\" + \\\n",
    "    \"28 29 30 31\\n\" + \\\n",
    "answer = eval(input(question3))\n",
    "\n",
    "if answer == 1:\n",
    "    day += 4\n",
    "\n",
    "question4 = \"is your birthday in set1?\\n\" + \\\n",
    "    \"8 9 10 11\\n\" + \\\n",
    "    \"12 13 14 15\\n\" + \\\n",
    "    \"24 25 26 27\\n\" + \\\n",
    "    \"28 29 30 31\\n\" + \\\n",
    "    \"\\nenter 1 for yes and 0 for no:\"\n",
    "answer = eval(input(question4))\n",
    "\n",
    "if answer == 1 :\n",
    "    day += 8\n",
    "    \n",
    "question5 = \"is your birthday in set1?\\n\" + \\\n",
    "    \"16 17 18 19\\n\" + \\\n",
    "    \"20 21 22 23\\n\" + \\\n",
    "    \"24 25 26 27\\n\" + \\\n",
    "    \"28 29 30 31\\n\" + \\\n",
    "    \"\\nenter 1 for yes and 0 for no:\"\n",
    "answer = eval(input(question5))\n",
    "\n",
    "if answer == 1:\n",
    "    day += 16\n",
    "    \n",
    "print(\"your birthday is\",day)"
   ]
  },
  {
   "cell_type": "code",
   "execution_count": null,
   "metadata": {},
   "outputs": [],
   "source": [
    "score = eval(input(\"enter your score:\"))\n",
    "if score >= 60:\n",
    "    score += 10\n",
    "print(\"your score is %d\"%(score))"
   ]
  },
  {
   "cell_type": "code",
   "execution_count": null,
   "metadata": {},
   "outputs": [],
   "source": [
    "score = eval(input(\"enter your score:\"))\n",
    "if score >= 60:\n",
    "    score += 10\n",
    "else:\n",
    "    score += 8\n",
    "print(\"your score is %d\"%(score))"
   ]
  },
  {
   "cell_type": "code",
   "execution_count": null,
   "metadata": {},
   "outputs": [],
   "source": [
    "temperature = eval(input(\"enter temperature today:\"))\n",
    "if temperature >= 28 :\n",
    "    print(\"hot\")\n",
    "else:\n",
    "    print(\"comfortable\")\n",
    "print(\"over\")"
   ]
  },
  {
   "cell_type": "code",
   "execution_count": null,
   "metadata": {},
   "outputs": [],
   "source": [
    "temperature = eval(input(\"enter temperature today:\"))\n",
    "if temperature >= 28:\n",
    "    print(\"hot\")\n",
    "elif temperature >= 22:\n",
    "    print(\"comfortable\")\n",
    "else:\n",
    "    print(\"cold\")\n",
    "print(\"over\")"
   ]
  },
  {
   "cell_type": "code",
   "execution_count": null,
   "metadata": {},
   "outputs": [],
   "source": [
    "temperature = eval(input(\"enter temperature today:\"))\n",
    "humility = eval(input(\"enter humility today:\"))\n",
    "if temperature >= 28:\n",
    "    print(\"hot\")\n",
    "elif temperature >=22 and humility >= 40 and humility <= 50:\n",
    "    print(\"comfortable\")\n",
    "else:\n",
    "    print(\"cold\")\n",
    "print(\"over\")"
   ]
  },
  {
   "cell_type": "code",
   "execution_count": null,
   "metadata": {},
   "outputs": [],
   "source": [
    "char = input(\"enter a character:\")\n",
    "if char >= \"a\" and char <= \"z\":\n",
    "    print(\"%c is lowercase character\"%(char))\n",
    "elif char >=\"A\" and char <=\"z\":\n",
    "    print(\"%c is uppercase character\"%(char))\n",
    "else:\n",
    "    print(\"%s is other character\"%(char))"
   ]
  },
  {
   "cell_type": "code",
   "execution_count": null,
   "metadata": {},
   "outputs": [],
   "source": [
    "num = eval(input(\"enter a number:\"))\n",
    "if num % 2 == 0:\n",
    "    print(\"%d\"%(num),end=\"\")\n",
    "    print(\"is even number.\")\n",
    "else:\n",
    "    print(\"%d\"%(num),end=\"\")\n",
    "    print(\"is odd number.\")\n",
    "print(\"test is over\")"
   ]
  },
  {
   "cell_type": "code",
   "execution_count": null,
   "metadata": {},
   "outputs": [],
   "source": [
    "radius = eval(input(\"please input radius:\"))\n",
    "\n",
    "if radius == 0:\n",
    "    print(\"negative is not invalid!!!\")\n",
    "else:\n",
    "    area = radius*radius*3.14158\n",
    "print(\"radius = \",radius)\n",
    "print(\"area = \",area)"
   ]
  },
  {
   "cell_type": "code",
   "execution_count": null,
   "metadata": {},
   "outputs": [],
   "source": [
    "temperature = eval(input(\"enter temperature today:\"))\n",
    "if temperature >= 28:\n",
    "    print(\"hot\")\n",
    "elif temperature >= 22:\n",
    "    print(\"comfortable\")\n",
    "else:\n",
    "    print(\"cold\")\n",
    "print(\"over\")"
   ]
  },
  {
   "cell_type": "code",
   "execution_count": null,
   "metadata": {},
   "outputs": [],
   "source": [
    "score = eval(input(\"enter your score:\"))\n",
    "if score >= 60 :\n",
    "    score += 10\n",
    "else:\n",
    "    score += 8\n",
    "print(\"your score is%d\"%(score))"
   ]
  },
  {
   "cell_type": "code",
   "execution_count": null,
   "metadata": {},
   "outputs": [],
   "source": [
    "temperature = eval(input(\"enter temperature today:\"))\n",
    "humility = eval(input(\"enter humility today:\"))\n",
    "if temperature >= 28:\n",
    "    print(\"hot\")\n",
    "elif temperature >= 22 or humility >= 40 or humility <= 50:\n",
    "    print(\"comfortable\")\n",
    "else:\n",
    "    print(\"cold\")\n",
    "print(\"over\")"
   ]
  },
  {
   "cell_type": "code",
   "execution_count": null,
   "metadata": {},
   "outputs": [],
   "source": [
    "year = eval(input(\"please input what year?\"))\n",
    "if year %400 == 0 and (year %4 == 0 or year % 100 != 0):\n",
    "    print(year,\"is leap year\")\n",
    "else:\n",
    "    print(year,\"is not leap year\")"
   ]
  },
  {
   "cell_type": "code",
   "execution_count": null,
   "metadata": {},
   "outputs": [],
   "source": [
    "char = input(\"enter a character:\")\n",
    "if char <=\"a\" and char >=\"z\":\n",
    "    print(\"%c is lowercase character\"%(char))\n",
    "elif char <=\"A\" and char >= \"A\":\n",
    "    print(\"%c is uppercase character\"%(char))\n",
    "else:\n",
    "    print(\"%s is other character\"%(char))"
   ]
  },
  {
   "cell_type": "code",
   "execution_count": null,
   "metadata": {},
   "outputs": [],
   "source": [
    "num = eval(input(\"enter a number:\"))\n",
    "if num % 2 == 0:\n",
    "    print(\"%d\"%(num),end=\"\")\n",
    "    print(\"is even number.\")\n",
    "else:\n",
    "    print(\"%d\"%(num),end=\"\")\n",
    "    print(\"is even number.\")\n",
    "print(\"test is over.\")"
   ]
  },
  {
   "cell_type": "code",
   "execution_count": null,
   "metadata": {},
   "outputs": [],
   "source": [
    "count = 1\n",
    "while count <= 100 :\n",
    "    print(\"learning python is fun!\")\n",
    "    count = count + 1"
   ]
  },
  {
   "cell_type": "code",
   "execution_count": 1,
   "metadata": {},
   "outputs": [
    {
     "name": "stdout",
     "output_type": "stream",
     "text": [
      "1+2+3+...+100= 5050\n"
     ]
    }
   ],
   "source": [
    "total = 0\n",
    "k = 1\n",
    "while k <= 100:\n",
    "    total = total + k\n",
    "    k = k + 1\n",
    "print(\"1+2+3+...+100=\",total)"
   ]
  },
  {
   "cell_type": "code",
   "execution_count": 3,
   "metadata": {},
   "outputs": [
    {
     "name": "stdout",
     "output_type": "stream",
     "text": [
      "100+99+98+...+1 = 5050\n"
     ]
    }
   ],
   "source": [
    "total = 0\n",
    "k = 100\n",
    "while k >= 1:\n",
    "    total += k\n",
    "    k-=1\n",
    "print(\"100+99+98+...+1 = %d\"%(total))"
   ]
  },
  {
   "cell_type": "code",
   "execution_count": 5,
   "metadata": {},
   "outputs": [
    {
     "name": "stdout",
     "output_type": "stream",
     "text": [
      "2+4+6+...+100= 2550\n"
     ]
    }
   ],
   "source": [
    "eventotal = 0\n",
    "k = 2\n",
    "while k <= 100 :\n",
    "    eventotal = eventotal + k \n",
    "    k = k + 2\n",
    "print(\"2+4+6+...+100=\",eventotal)"
   ]
  },
  {
   "cell_type": "code",
   "execution_count": 14,
   "metadata": {},
   "outputs": [
    {
     "name": "stdout",
     "output_type": "stream",
     "text": [
      "learning python is fun\n",
      "learning python is fun\n",
      "learning python is fun\n",
      "learning python is fun\n",
      "learning python is fun\n",
      "learning python is fun\n",
      "learning python is fun\n",
      "learning python is fun\n",
      "learning python is fun\n",
      "learning python is fun\n",
      "learning python is fun\n",
      "learning python is fun\n",
      "learning python is fun\n",
      "learning python is fun\n",
      "learning python is fun\n",
      "learning python is fun\n",
      "learning python is fun\n",
      "learning python is fun\n",
      "learning python is fun\n",
      "learning python is fun\n",
      "learning python is fun\n",
      "learning python is fun\n",
      "learning python is fun\n",
      "learning python is fun\n",
      "learning python is fun\n",
      "learning python is fun\n",
      "learning python is fun\n",
      "learning python is fun\n",
      "learning python is fun\n",
      "learning python is fun\n",
      "learning python is fun\n",
      "learning python is fun\n",
      "learning python is fun\n",
      "learning python is fun\n",
      "learning python is fun\n",
      "learning python is fun\n",
      "learning python is fun\n",
      "learning python is fun\n",
      "learning python is fun\n",
      "learning python is fun\n",
      "learning python is fun\n",
      "learning python is fun\n",
      "learning python is fun\n",
      "learning python is fun\n",
      "learning python is fun\n",
      "learning python is fun\n",
      "learning python is fun\n",
      "learning python is fun\n",
      "learning python is fun\n",
      "learning python is fun\n",
      "learning python is fun\n",
      "learning python is fun\n",
      "learning python is fun\n",
      "learning python is fun\n",
      "learning python is fun\n",
      "learning python is fun\n",
      "learning python is fun\n",
      "learning python is fun\n",
      "learning python is fun\n",
      "learning python is fun\n",
      "learning python is fun\n",
      "learning python is fun\n",
      "learning python is fun\n",
      "learning python is fun\n",
      "learning python is fun\n",
      "learning python is fun\n",
      "learning python is fun\n",
      "learning python is fun\n",
      "learning python is fun\n",
      "learning python is fun\n",
      "learning python is fun\n",
      "learning python is fun\n",
      "learning python is fun\n",
      "learning python is fun\n",
      "learning python is fun\n",
      "learning python is fun\n",
      "learning python is fun\n",
      "learning python is fun\n",
      "learning python is fun\n",
      "learning python is fun\n",
      "learning python is fun\n",
      "learning python is fun\n",
      "learning python is fun\n",
      "learning python is fun\n",
      "learning python is fun\n",
      "learning python is fun\n",
      "learning python is fun\n",
      "learning python is fun\n",
      "learning python is fun\n",
      "learning python is fun\n",
      "learning python is fun\n",
      "learning python is fun\n",
      "learning python is fun\n",
      "learning python is fun\n",
      "learning python is fun\n",
      "learning python is fun\n",
      "learning python is fun\n",
      "learning python is fun\n",
      "learning python is fun\n",
      "learning python is fun\n"
     ]
    }
   ],
   "source": [
    "for k in range(1,101):\n",
    "    print(\"learning python is fun\")"
   ]
  },
  {
   "cell_type": "code",
   "execution_count": null,
   "metadata": {},
   "outputs": [],
   "source": [
    "total = 0\n",
    "for i in range(1,101):\n",
    "    total += i\n",
    "print(\"1+2+3+...+100=\",total)"
   ]
  },
  {
   "cell_type": "code",
   "execution_count": null,
   "metadata": {},
   "outputs": [],
   "source": [
    "total = 0\n",
    "for i in range(1,101,2):\n",
    "    total += i\n",
    "print(\"2+4+6...+100=\",total)"
   ]
  },
  {
   "cell_type": "code",
   "execution_count": null,
   "metadata": {},
   "outputs": [],
   "source": [
    "total = 0\n",
    "number = 0\n",
    "while true:\n",
    "    number += 1\n",
    "    total += number\n",
    "    if total >= 100:\n",
    "        break\n",
    "print(\"the number is\",number)\n",
    "print(\"total is\",total)"
   ]
  },
  {
   "cell_type": "code",
   "execution_count": null,
   "metadata": {},
   "outputs": [],
   "source": [
    "total = 0\n",
    "number = 0\n",
    "while true:\n",
    "    number += 2\n",
    "    total += number\n",
    "    if total >= 1000:\n",
    "        break\n",
    "print(\"the number is\",number)\n",
    "print(\"total is\",total)"
   ]
  },
  {
   "cell_type": "code",
   "execution_count": null,
   "metadata": {},
   "outputs": [],
   "source": [
    "total = 0\n",
    "number = 1\n",
    "while number <= 100:\n",
    "    if number %5 == 0\n",
    "        total += 1\n",
    "        continue\n",
    "    total += number\n",
    "    number += 1\n",
    "print(\"total is\",total)"
   ]
  },
  {
   "cell_type": "code",
   "execution_count": null,
   "metadata": {},
   "outputs": [],
   "source": [
    "total = 0\n",
    "number = 1\n",
    "while number <= 100:\n",
    "    number += 1\n",
    "    if number %5 != 0\n",
    "        continue\n",
    "    total += number\n",
    "print(\"total is\",total)"
   ]
  },
  {
   "cell_type": "code",
   "execution_count": null,
   "metadata": {},
   "outputs": [],
   "source": [
    "total = 0\n",
    "number = 0\n",
    "while number <= 100:\n",
    "    number += 1\n",
    "    if number%5==0:\n",
    "        break\n",
    "    total += number\n",
    "print(\"the total is\",total)"
   ]
  },
  {
   "cell_type": "code",
   "execution_count": null,
   "metadata": {},
   "outputs": [],
   "source": [
    "oddtotal = 0\n",
    "k = 1\n",
    "while k <= 100:\n",
    "    oddtotal = oddtotal + k\n",
    "    k = k + 2\n",
    "print(\"1+3+5+...+99=\",oddtotal)"
   ]
  },
  {
   "cell_type": "code",
   "execution_count": null,
   "metadata": {},
   "outputs": [],
   "source": [
    "oddtotal = 0\n",
    "k = 1\n",
    "while k <= 100:\n",
    "    oddtotal += k\n",
    "    k += 2\n",
    "print(\"1+3+5+...+99=\",oddtotal)"
   ]
  },
  {
   "cell_type": "code",
   "execution_count": null,
   "metadata": {},
   "outputs": [],
   "source": [
    "for i in range(1,10):\n",
    "    print(\"i = \",i)\n",
    "    for j in range(1,10):\n",
    "        print(\" j = \",j)\n",
    "    print(\"\")"
   ]
  },
  {
   "cell_type": "code",
   "execution_count": null,
   "metadata": {},
   "outputs": [],
   "source": [
    "for i in range(1,10):\n",
    "    for j in range(1,10):\n",
    "        print(\"%d*%d=%2d\"%(i,j,i*j))"
   ]
  },
  {
   "cell_type": "code",
   "execution_count": 15,
   "metadata": {},
   "outputs": [
    {
     "name": "stdout",
     "output_type": "stream",
     "text": [
      "1*1= 11*2= 21*3= 31*4= 41*5= 51*6= 61*7= 71*8= 81*9= 92*1= 22*2= 42*3= 62*4= 82*5=102*6=122*7=142*8=162*9=183*1= 33*2= 63*3= 93*4=123*5=153*6=183*7=213*8=243*9=274*1= 44*2= 84*3=124*4=164*5=204*6=244*7=284*8=324*9=365*1= 55*2=105*3=155*4=205*5=255*6=305*7=355*8=405*9=456*1= 66*2=126*3=186*4=246*5=306*6=366*7=426*8=486*9=547*1= 77*2=147*3=217*4=287*5=357*6=427*7=497*8=567*9=638*1= 88*2=168*3=248*4=328*5=408*6=488*7=568*8=648*9=729*1= 99*2=189*3=279*4=369*5=459*6=549*7=639*8=729*9=81"
     ]
    }
   ],
   "source": [
    "for i in range(1,10):\n",
    "    for j in range(1,10):\n",
    "        print(\"%d*%d=%2d\"%(i,j,i*j),end=\"\")"
   ]
  },
  {
   "cell_type": "code",
   "execution_count": null,
   "metadata": {},
   "outputs": [],
   "source": [
    "for i in range(1,10):\n",
    "    for j in range(1,10):\n",
    "        print(\"%d*%d=%2d\"%(i,j,i*j),end=\"\")\n",
    "    print(\"\")"
   ]
  },
  {
   "cell_type": "code",
   "execution_count": null,
   "metadata": {},
   "outputs": [],
   "source": [
    "for i in range(1,10):\n",
    "    for j in range(1,10):\n",
    "        print(\"%d*%d=%2d\"%(j,i,i*j),end=\"\")\n",
    "    print(\"\")"
   ]
  },
  {
   "cell_type": "code",
   "execution_count": null,
   "metadata": {},
   "outputs": [],
   "source": [
    "import random\n",
    "for i in range(1,101):\n",
    "    randomnumber = random,randit(1,100)\n",
    "    print(randomnumber,end=\"\")"
   ]
  },
  {
   "cell_type": "code",
   "execution_count": null,
   "metadata": {},
   "outputs": [],
   "source": [
    "import random\n",
    "evencount = 0\n",
    "oddcount = 0\n",
    "for i in range(1,101):\n",
    "    randomnumber = random.randit(1,100)\n",
    "    print(randomnumber,end=\"\")\n",
    "    if randomnumber%2 == 0\n",
    "        evencount += 1\n",
    "oddcount = 100 - evencount\n",
    "\n",
    "print(\"\\neven number:\",evencount,\"\\nodd number:\",oddcount)"
   ]
  },
  {
   "cell_type": "code",
   "execution_count": null,
   "metadata": {},
   "outputs": [],
   "source": [
    "#start\n",
    "import random\n",
    "evencount = 0\n",
    "oddcount = 0\n",
    "\n",
    "fori in range(1,101):\n",
    "    randomnumber = random.randint(1,100)\n",
    "    if i %10 == 0\n",
    "        print(\"%5d\"%(randomnumber))\n",
    "    else:\n",
    "        print(\"%5d\"%(rsndomnumber),end=\"\")\n",
    "    if randomnumber % 2 == 0\n",
    "        evencount += 1\n",
    "oddcount = 100 - evencount\n",
    "print(\"\\neven number:\",evencount,\"\\nodd number:\",oddnumber)"
   ]
  },
  {
   "cell_type": "code",
   "execution_count": null,
   "metadata": {},
   "outputs": [],
   "source": [
    "number = eval(input(\"please input an integer:\"))\n",
    "divisor = 2 #除數\n",
    "flag = 1\n",
    "while divisior < number:\n",
    "    if number % divisor == 0:\n",
    "        #if true,number is not prime number\n",
    "        flag = 0\n",
    "        break\n",
    "    divisor += 1\n",
    "if flag == 0:\n",
    "    print(number,\"is not prime number\")\n",
    "else:\n",
    "    print(number,\"is prime number\")"
   ]
  },
  {
   "cell_type": "code",
   "execution_count": null,
   "metadata": {},
   "outputs": [],
   "source": [
    "number = eval(input(\"please input an integer:\"))\n",
    "divisor = 2\n",
    "flag = 1\n",
    "while divisor <= number/2:\n",
    "    if number%divisor == 0\n",
    "        #if true,number is not prime number\n",
    "        flag = 0\n",
    "        break\n",
    "    divisor += 1\n",
    "if flag == 0:\n",
    "    print(number,\"is not prime number\")\n",
    "else:\n",
    "    print(number,\"is prime number\")"
   ]
  },
  {
   "cell_type": "code",
   "execution_count": null,
   "metadata": {},
   "outputs": [],
   "source": [
    "for number in range(2,1001):\n",
    "    divisor = 2\n",
    "    flag = 1\n",
    "    while divisor <= number/2:\n",
    "        if number%divisor == 0:\n",
    "            flag = 0\n",
    "            break \n",
    "        divisor += 1\n",
    "    if flag == 1:\n",
    "        print(number,end=\"\")"
   ]
  },
  {
   "cell_type": "code",
   "execution_count": null,
   "metadata": {},
   "outputs": [],
   "source": [
    "count = 0\n",
    "for number in range(2,1001):\n",
    "    divisor = 2\n",
    "    flag = 1\n",
    "    while divisor <= number/2:\n",
    "        if number%divisor == 0:\n",
    "            flag = 0\n",
    "            break\n",
    "        divisor += 1\n",
    "    if flag == 1:\n",
    "        count += 1\n",
    "        if count % 10 == 0:\n",
    "            print(\"%5d\"%(number))\n",
    "        else:\n",
    "            print(\"%5d\"%(number),end=\"\")"
   ]
  },
  {
   "cell_type": "code",
   "execution_count": null,
   "metadata": {},
   "outputs": [],
   "source": [
    "number1 = eval(input(\"please input an integer:\"))\n",
    "number2 = eval(input(\"please input an integer:\"))\n",
    "gcd = 1\n",
    "k = 2\n",
    "while k <= number1 and k <=number2:\n",
    "    if number1%k == 0 and number2%k == 0:\n",
    "        gcd = k\n",
    "    k += 1\n",
    "print(\"the gcd for\",number1,\"and\",number2,\"is\",gcd)"
   ]
  },
  {
   "cell_type": "code",
   "execution_count": null,
   "metadata": {},
   "outputs": [],
   "source": [
    "numerator1 = eval(input(\"please input an numerator1:\"))\n",
    "denominator1 = eval(input(\"please input an denominator1:\"))\n",
    "\n",
    "numerator2 = eval(input(\"please input an numerator2:\"))\n",
    "denominator2 = eval(input(\"please input an denominator2:\"))\n",
    "\n",
    "number1 = numerator1*denominator2 + numerator2*denominator1\n",
    "number2 = denominator1*denominator2\n",
    "\n",
    "gcd = 1\n",
    "k = 2\n",
    "while k <= number1 and k<= number2:\n",
    "    if number1 % k == 0 and number2 % k == 0:\n",
    "        gcd = k\n",
    "    k += 1\n",
    "print(\"the gcd for\",numbr1,\"and\",number2,\"is\",gcd)\n",
    "print(\"%d/%d + %d/%d = \"%(numerator1,denominator1,numerator2,denominator2),end=\"\")\n",
    "print(\"%d/%d\"%(number1/gcd,number2/gcd))"
   ]
  },
  {
   "cell_type": "code",
   "execution_count": null,
   "metadata": {},
   "outputs": [],
   "source": [
    "import random\n",
    "for i in range(1,7):\n",
    "    k = random.randint(1,49)\n",
    "    print(k,end=\"\")"
   ]
  },
  {
   "cell_type": "code",
   "execution_count": null,
   "metadata": {},
   "outputs": [],
   "source": [
    "fivemulti = 0\n",
    "k = 5\n",
    "while k <= 100:\n",
    "    fivemulti += k\n",
    "    k += 5\n",
    "print(fivemulti)"
   ]
  },
  {
   "cell_type": "code",
   "execution_count": null,
   "metadata": {},
   "outputs": [],
   "source": [
    "for i in range(10):\n",
    "    print(i,end=\"\")\n",
    "print(\"\")\n",
    "\n",
    "for i in range(2,10):\n",
    "    print(i,end=\"\")\n",
    "print(\"\")\n",
    "\n",
    "for i in range(1,10,2):\n",
    "    print(i,end=\"\")\n",
    "print(\"\")\n",
    "\n",
    "for i in range(9,1,-2)\n",
    "    print(i,end=\"\")\n",
    "print(\"\")"
   ]
  },
  {
   "cell_type": "code",
   "execution_count": null,
   "metadata": {},
   "outputs": [],
   "source": [
    "for i in range(10):\n",
    "    print(\"%3d\"%(i),end=\"\")\n",
    "print(\"\")\n",
    "\n",
    "for i in range(2,10):\n",
    "    print(\"%3d\"%(i),end=\"\")\n",
    "print(\"\")\n",
    "\n",
    "for i in range(1,10,2):\n",
    "    print(\"%3d\"%(i),end=\"\")\n",
    "print(\"\")\n",
    "\n",
    "for i in range(9,1,-2):\n",
    "    print(\"%3d\"%(i),end=\"\")\n",
    "print(\"\")"
   ]
  },
  {
   "cell_type": "code",
   "execution_count": null,
   "metadata": {},
   "outputs": [],
   "source": [
    "total = 0\n",
    "num = 0\n",
    "while true:\n",
    "    num += 1\n",
    "    total += num\n",
    "    if total >= 5050:\n",
    "        break\n",
    "print(\"1+2+3+...+%d\"%(num,total))"
   ]
  },
  {
   "cell_type": "code",
   "execution_count": null,
   "metadata": {},
   "outputs": [],
   "source": [
    "total = 0\n",
    "num = 1\n",
    "while num <= 100:\n",
    "    if num % 2 == 0:\n",
    "        num += 1\n",
    "        continue\n",
    "    total += num\n",
    "print(\"1+3+5...+99=\",total)"
   ]
  },
  {
   "cell_type": "code",
   "execution_count": null,
   "metadata": {},
   "outputs": [],
   "source": [
    "total = 0\n",
    "for i in range(2,100):\n",
    "    if i % 2 == 0:\n",
    "        total += i\n",
    "    else:\n",
    "        continue\n",
    "print(\"2+4+6...+100 = \",total)"
   ]
  }
 ],
 "metadata": {
  "kernelspec": {
   "display_name": "Python 3",
   "language": "python",
   "name": "python3"
  },
  "language_info": {
   "codemirror_mode": {
    "name": "ipython",
    "version": 3
   },
   "file_extension": ".py",
   "mimetype": "text/x-python",
   "name": "python",
   "nbconvert_exporter": "python",
   "pygments_lexer": "ipython3",
   "version": "3.8.5"
  }
 },
 "nbformat": 4,
 "nbformat_minor": 4
}
