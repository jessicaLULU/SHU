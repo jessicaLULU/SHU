{
 "cells": [
  {
   "cell_type": "code",
   "execution_count": null,
   "metadata": {},
   "outputs": [],
   "source": [
    "#display two messages\n",
    "print(\"Learning python now!\")\n",
    "print(\"python is fun\")"
   ]
  },
  {
   "cell_type": "code",
   "execution_count": null,
   "metadata": {},
   "outputs": [],
   "source": [
    "print(\"hello python\")\n",
    "print(\"hello python\")\n",
    "    Print(\"hello python\")"
   ]
  },
  {
   "cell_type": "code",
   "execution_count": null,
   "metadata": {},
   "outputs": [],
   "source": [
    "print(\"hello python\")\n",
    "print(\"hello python\")\n",
    "print(\"hello python\");"
   ]
  },
  {
   "cell_type": "code",
   "execution_count": null,
   "metadata": {},
   "outputs": [],
   "source": [
    "print(\"python is a good programming langurge\")"
   ]
  },
  {
   "cell_type": "code",
   "execution_count": null,
   "metadata": {},
   "outputs": [],
   "source": [
    "print(\"let/'s go\")"
   ]
  },
  {
   "cell_type": "code",
   "execution_count": null,
   "metadata": {},
   "outputs": [],
   "source": [
    "print('\\\\n is skip a line')"
   ]
  },
  {
   "cell_type": "code",
   "execution_count": null,
   "metadata": {},
   "outputs": [],
   "source": [
    "print(\"learning python now!\\npython is fun\")"
   ]
  },
  {
   "cell_type": "code",
   "execution_count": null,
   "metadata": {},
   "outputs": [],
   "source": [
    "print(\"\\\"hello world\\\"\")"
   ]
  },
  {
   "cell_type": "code",
   "execution_count": null,
   "metadata": {},
   "outputs": [],
   "source": [
    "print(\"radius = \",12)"
   ]
  },
  {
   "cell_type": "code",
   "execution_count": null,
   "metadata": {},
   "outputs": [],
   "source": [
    "print(\"radius = \"12)"
   ]
  },
  {
   "cell_type": "code",
   "execution_count": null,
   "metadata": {},
   "outputs": [],
   "source": [
    "print(\"hello,\")\n",
    "print(\"world\")"
   ]
  },
  {
   "cell_type": "code",
   "execution_count": null,
   "metadata": {},
   "outputs": [],
   "source": [
    "print(\"hello,\",end=\"\")\n",
    "print(\"world\")"
   ]
  },
  {
   "cell_type": "code",
   "execution_count": null,
   "metadata": {},
   "outputs": [],
   "source": [
    "print(\"hello,\",end=\"***\")\n",
    "print(\"world\")"
   ]
  },
  {
   "cell_type": "code",
   "execution_count": null,
   "metadata": {},
   "outputs": [],
   "source": [
    "print(\"***hello,world\",end=\"***\")\n",
    "print(\"\")\n",
    "print(\"hello,python\")\n",
    "print(\"excellent!!!\")"
   ]
  },
  {
   "cell_type": "code",
   "execution_count": null,
   "metadata": {},
   "outputs": [],
   "source": [
    "print(\"***hello,world***\")\n",
    "print(\"hello,python\")\n",
    "print(\"excellent!!!\")"
   ]
  },
  {
   "cell_type": "code",
   "execution_count": null,
   "metadata": {},
   "outputs": [],
   "source": [
    "#print(format(item,format-specifier))\n",
    "print(format(100,\"8d\"))"
   ]
  },
  {
   "cell_type": "code",
   "execution_count": null,
   "metadata": {},
   "outputs": [],
   "source": [
    "print(format(100000,\"3d\"))"
   ]
  },
  {
   "cell_type": "code",
   "execution_count": null,
   "metadata": {},
   "outputs": [],
   "source": [
    "print(format(100,\"8d\"))\n",
    "print(format(100,\"8o\"))\n",
    "print(format(100,\"8b\"))"
   ]
  },
  {
   "cell_type": "code",
   "execution_count": null,
   "metadata": {},
   "outputs": [],
   "source": [
    "print(format(0.2389,\"6.2%\"))"
   ]
  },
  {
   "cell_type": "code",
   "execution_count": null,
   "metadata": {},
   "outputs": [],
   "source": [
    "print(format(123.456,\"8.2f\"))"
   ]
  },
  {
   "cell_type": "code",
   "execution_count": null,
   "metadata": {},
   "outputs": [],
   "source": [
    "print(format(\"python is fun\",\"15s\"))"
   ]
  },
  {
   "cell_type": "code",
   "execution_count": null,
   "metadata": {},
   "outputs": [],
   "source": [
    "print(format(\"python is fun\",\">15s\"))"
   ]
  },
  {
   "cell_type": "code",
   "execution_count": null,
   "metadata": {},
   "outputs": [],
   "source": [
    "print(format(12345,\"10d\"))"
   ]
  },
  {
   "cell_type": "code",
   "execution_count": null,
   "metadata": {},
   "outputs": [],
   "source": [
    "print(format(12345,\"<10d\"))"
   ]
  },
  {
   "cell_type": "code",
   "execution_count": null,
   "metadata": {},
   "outputs": [],
   "source": [
    "print(format(12345,\"^10d\"))"
   ]
  },
  {
   "cell_type": "code",
   "execution_count": null,
   "metadata": {},
   "outputs": [],
   "source": [
    "print(12345,12,1234567)\n",
    "print(12,1234567,12345)\n",
    "print(1234567,12345,12)"
   ]
  },
  {
   "cell_type": "code",
   "execution_count": null,
   "metadata": {},
   "outputs": [],
   "source": [
    "print(format(12345,\"10d\"),format(12,\"10d\"),format(1234567,\"10d\"))\n",
    "print(format(12,\"10d\"),format(1234567,\"10d\"),format(12345,\"10d\"))\n",
    "print(format(1234567,\"10d\"),format(12345,\"10d\"),format(12,\"10d\"))"
   ]
  },
  {
   "cell_type": "code",
   "execution_count": null,
   "metadata": {},
   "outputs": [],
   "source": [
    "print(\"%10d\"%(12345))"
   ]
  },
  {
   "cell_type": "code",
   "execution_count": null,
   "metadata": {},
   "outputs": [],
   "source": [
    "print(\"|%10d|\"%(12345))"
   ]
  },
  {
   "cell_type": "code",
   "execution_count": null,
   "metadata": {},
   "outputs": [],
   "source": [
    "print(\"|%3d|\"%(12345))"
   ]
  },
  {
   "cell_type": "code",
   "execution_count": null,
   "metadata": {},
   "outputs": [],
   "source": [
    "print(\"|%-10d|\"%(12345))"
   ]
  },
  {
   "cell_type": "code",
   "execution_count": null,
   "metadata": {},
   "outputs": [],
   "source": [
    "print(\"|%8.2f|\"%(123.456))\n",
    "print(\"|%8.2f|\"%(1.23456))\n",
    "print(\"|%8.2f|\"%(1234.56))\n",
    "print(\"|%8.2f|\"%(12.3456))\n",
    "print(\"|%8.2f|\"%(12345.6))"
   ]
  },
  {
   "cell_type": "code",
   "execution_count": null,
   "metadata": {},
   "outputs": [],
   "source": [
    "print(\"|%.2f|\"%(123.456))\n",
    "print(\"|%.2f|\"%(1.23456))\n",
    "print(\"|%.2f|\"%(1234.56))\n",
    "print(\"|%.2f|\"%(12.3456))\n",
    "print(\"|%.2f|\"%(12345.6))"
   ]
  },
  {
   "cell_type": "code",
   "execution_count": null,
   "metadata": {},
   "outputs": [],
   "source": [
    "print(\"%10d%10d%10d\"%(12345,12,1234567))\n",
    "print(\"%10d%10d%10d\"%(12,1234567,12345))\n",
    "print(\"%10d%10d%10d\"%(1234567,12345,12))"
   ]
  },
  {
   "cell_type": "code",
   "execution_count": null,
   "metadata": {},
   "outputs": [],
   "source": [
    "print(\"%d%%orange juice\"%(100))"
   ]
  },
  {
   "cell_type": "code",
   "execution_count": null,
   "metadata": {},
   "outputs": [],
   "source": [
    "print(\"{0}\".format(123))\n",
    "print(\"{0},{1}\".format(123,12345))\n",
    "print(\"{0:5d},{1:7d}\".format(123,12345))\n",
    "print(\"x = {0:5d},y = {1:7d}\".format(123,12345))\n",
    "print(\"x = {p:5d},{q:7d}\".format(p = 123,q = 12345))\n",
    "print(\"a = {0:7.2f},b = {1:9.2f}\".format(123.456,123.456))\n",
    "print(\"{p:9s},{q:7s}\".format(p = \"kiwi\",q = \"banana\"))\n",
    "print(\"{p:>9s},{q:>9s}\".format(p = \"kiwi\",q = \"banana\"))\n",
    "print(\"{p:^9s},{q:^9s}\".format(p = \"kiwi\",q = \"banana\"))"
   ]
  },
  {
   "cell_type": "code",
   "execution_count": 4,
   "metadata": {},
   "outputs": [
    {
     "name": "stdout",
     "output_type": "stream",
     "text": [
      "|     12345        12   1234567|\n",
      "|        12   1234567       123|\n",
      "|   1234567       123     12345|\n"
     ]
    }
   ],
   "source": [
    "print(\"|%10d %9d %9d|\" %(12345,12,1234567))\n",
    "print(\"|%10d %9d %9d|\" %(12,1234567,123))\n",
    "print(\"|%10d %9d %9d|\" %(1234567,123,12345))"
   ]
  },
  {
   "cell_type": "code",
   "execution_count": 9,
   "metadata": {},
   "outputs": [
    {
     "name": "stdout",
     "output_type": "stream",
     "text": [
      "deparment   \n",
      "of          \n",
      "computer    \n",
      "science     \n",
      "\n"
     ]
    }
   ],
   "source": [
    "print(format(\"deparment\",\"12s\"))\n",
    "print(format(\"of\",\"12s\"))\n",
    "print(format(\"computer\",\"12s\"))\n",
    "print(format(\"science\",\"12s\"))\n",
    "print()"
   ]
  },
  {
   "cell_type": "code",
   "execution_count": 11,
   "metadata": {},
   "outputs": [
    {
     "name": "stdout",
     "output_type": "stream",
     "text": [
      "  department\n",
      "          of\n",
      "    computer\n",
      "     science\n"
     ]
    }
   ],
   "source": [
    "print(format(\"department\",\">12s\"))\n",
    "print(format(\"of\",\">12s\"))\n",
    "print(format(\"computer\",\">12s\"))\n",
    "print(format(\"science\",\">12s\"))"
   ]
  },
  {
   "cell_type": "code",
   "execution_count": 12,
   "metadata": {},
   "outputs": [
    {
     "name": "stdout",
     "output_type": "stream",
     "text": [
      "    123.46\n",
      "  12345.68\n"
     ]
    }
   ],
   "source": [
    "print(format(123.456,\"10.2f\"))\n",
    "print(format(12345.678,\"10.2f\"))"
   ]
  },
  {
   "cell_type": "code",
   "execution_count": 13,
   "metadata": {},
   "outputs": [
    {
     "name": "stdout",
     "output_type": "stream",
     "text": [
      "i=100\n",
      "i=100,j=200\n"
     ]
    }
   ],
   "source": [
    "print(\"i=%d\"%(100))\n",
    "print(\"i=%d,j=%d\"%(100,200))"
   ]
  },
  {
   "cell_type": "code",
   "execution_count": 14,
   "metadata": {},
   "outputs": [
    {
     "name": "stdout",
     "output_type": "stream",
     "text": [
      "price:$  356.09\n",
      "    123.46     345.79\n",
      "123.46       100\n",
      "radius = 5,area =   78.54\n"
     ]
    }
   ],
   "source": [
    "print(\"price:$%8.2f\"%(356.08977))\n",
    "print(\"%10.2f %10.2f\" %(123.456,345.789))\n",
    "print(\"%-10.2f %5d\" %(123.456,100))\n",
    "print(\"radius = %d,area = %7.2f\" %(5,5*5*3.14159))"
   ]
  },
  {
   "cell_type": "code",
   "execution_count": 16,
   "metadata": {},
   "outputs": [
    {
     "name": "stdout",
     "output_type": "stream",
     "text": [
      "3.25 degree celsius in fahrenheit    is 37.85\n",
      "94.50 degree fahrenheit in celsius    is 34.72\n"
     ]
    }
   ],
   "source": [
    "print(\"%.2f degree celsius in fahrenheit\\\n",
    "    is %.2f\" %(3.25,3.25*1.8 + 32))\n",
    "print(\"%.2f degree fahrenheit in celsius\\\n",
    "    is %.2f\" %(94.5,(94.5 - 32)/1.8))"
   ]
  },
  {
   "cell_type": "code",
   "execution_count": 17,
   "metadata": {},
   "outputs": [
    {
     "name": "stdout",
     "output_type": "stream",
     "text": [
      "month           amount    \n",
      "1               43400.20  \n",
      "2               45430.28  \n",
      "3               48030.48  \n",
      "4               51112.96  \n",
      "5               52857.20  \n"
     ]
    }
   ],
   "source": [
    "print(\"%-15s %-10s\" %(\"month\",\"amount\"))\n",
    "print(\"%-15d %-10.2f\" %(1,43400.2))\n",
    "print(\"%-15d %-10.2f\" %(2,45430.28))\n",
    "print(\"%-15d %-10.2f\" %(3,48030.48))\n",
    "print(\"%-15d %-10.2f\" %(4,51112.96))\n",
    "print(\"%-15d %-10.2f\" %(5,52857.2))"
   ]
  },
  {
   "cell_type": "code",
   "execution_count": 29,
   "metadata": {},
   "outputs": [
    {
     "name": "stdout",
     "output_type": "stream",
     "text": [
      "|     12345        12   1234567|\n",
      "radius=  5,area=     15.71\n",
      "    123.46\n",
      "1               4340.20   \n",
      "x=  123,y=  12345\n"
     ]
    }
   ],
   "source": [
    "print(\"|%10d %9d %9d|\" %(12345,12,1234567))\n",
    "print(\"radius={a:3d},area={b:10.2f}\".format(a=5,b=5*3.14159))\n",
    "print(format(123.456,\"10.2f\"))\n",
    "print(\"%-15d %-10.2f\" %(1,4340.2))\n",
    "print(\"x={0:5d},y={1:7d}\".format(123,12345))"
   ]
  },
  {
   "cell_type": "code",
   "execution_count": 4,
   "metadata": {},
   "outputs": [
    {
     "name": "stdout",
     "output_type": "stream",
     "text": [
      "member karen  ,discount 0.35\n",
      "member sammy  ,discount 0.40\n",
      "member jojo   ,discount 0.42\n"
     ]
    }
   ],
   "source": [
    "print(\"member {0:7s},discount {1:3.2f}\".format(\"karen\",0.35))\n",
    "print(\"member {0:7s},discount {1:3.2f}\".format(\"sammy\",0.4))\n",
    "print(\"member {0:7s},discount {1:3.2f}\".format(\"jojo\",0.42))"
   ]
  },
  {
   "cell_type": "code",
   "execution_count": 5,
   "metadata": {},
   "outputs": [
    {
     "name": "stdout",
     "output_type": "stream",
     "text": [
      "                tall short               \n",
      "               short weak                \n",
      "               thick thin                \n"
     ]
    }
   ],
   "source": [
    "print(\"%20s %-20s\" %(\"tall\",\"short\"))\n",
    "print(\"%20s %-20s\" %(\"short\",\"weak\"))\n",
    "print(\"%20s %-20s\" %(\"thick\",\"thin\"))"
   ]
  },
  {
   "cell_type": "code",
   "execution_count": 7,
   "metadata": {},
   "outputs": [
    {
     "name": "stdout",
     "output_type": "stream",
     "text": [
      "   apple's products: iphone              \n",
      "                     imac                \n",
      "                     apple watch         \n",
      "                     ...                 \n"
     ]
    }
   ],
   "source": [
    "print(\"%20s %-20s\" %(\"apple\\'s products:\",\"iphone\"))\n",
    "print(\"%20s %-20s\" %(\"\",\"imac\"))\n",
    "print(\"%20s %-20s\" %(\"\",\"apple watch\"))\n",
    "print(\"%20s %-20s\" %(\"\",\"...\"))"
   ]
  },
  {
   "cell_type": "code",
   "execution_count": 11,
   "metadata": {},
   "outputs": [
    {
     "name": "stdout",
     "output_type": "stream",
     "text": [
      "city            celsius\n",
      "taipei            33.20\n",
      "yilen             32.93\n",
      "miaoli            32.29\n",
      "taichung          32.48\n",
      "hualian           33.87\n"
     ]
    }
   ],
   "source": [
    "print(\"%-15s %7s\" %(\"city\",\"celsius\"))\n",
    "print(\"%-15s %7.2f\" %(\"taipei\",33.2))\n",
    "print(\"%-15s %7.2f\" %(\"yilen\",32.93))\n",
    "print(\"%-15s %7.2f\" %(\"miaoli\",32.29))\n",
    "print(\"%-15s %7.2f\" %(\"taichung\",32.48))\n",
    "print(\"%-15s %7.2f\" %(\"hualian\",33.87))"
   ]
  },
  {
   "cell_type": "code",
   "execution_count": 12,
   "metadata": {},
   "outputs": [
    {
     "name": "stdout",
     "output_type": "stream",
     "text": [
      "|    22     44     66     88|\n",
      "|33     55     66     99    |\n",
      "|   222    444    666    888|\n",
      "|333    555    666    999   |\n"
     ]
    }
   ],
   "source": [
    "print(\"|%6d %6d %6d %6d|\"%(22,44,66,88))\n",
    "print(\"|%-6d %-6d %-6d %-6d|\"%(33,55,66,99))\n",
    "print(\"|%6d %6d %6d %6d|\"%(222,444,666,888))\n",
    "print(\"|%-6d %-6d %-6d %-6d|\"%(333,555,666,999))"
   ]
  },
  {
   "cell_type": "code",
   "execution_count": 13,
   "metadata": {},
   "outputs": [
    {
     "name": "stdout",
     "output_type": "stream",
     "text": [
      "---------\n",
      "learning python now\n",
      "pythin is fun$$$\n",
      "---------\n"
     ]
    }
   ],
   "source": [
    "print(\"---------\")\n",
    "print(\"learning python now\")\n",
    "print(\"pythin is fun$$$\")\n",
    "print(\"---------\")"
   ]
  },
  {
   "cell_type": "code",
   "execution_count": 18,
   "metadata": {},
   "outputs": [
    {
     "name": "stdout",
     "output_type": "stream",
     "text": [
      "|     12345        12   1234567|\n",
      "radius:(a:3d),area:((b:10.2f)\n",
      "    123.46\n",
      "              1   43400.20\n",
      "x =   123,y =   12345\n"
     ]
    }
   ],
   "source": [
    "print(\"|%10d %9d %9d|\"%(12345,12,1234567))\n",
    "print(\"radius:(a:3d),area:((b:10.2f)\".format(5,5*3.14159))\n",
    "print(format(123.456,\"10.2f\"))\n",
    "print(\"%15d %10.2f\"%(1,43400.2))\n",
    "print(\"x = {0:5d},y = {1:7d}\".format(123,12345))"
   ]
  },
  {
   "cell_type": "code",
   "execution_count": null,
   "metadata": {},
   "outputs": [],
   "source": []
  }
 ],
 "metadata": {
  "kernelspec": {
   "display_name": "Python 3",
   "language": "python",
   "name": "python3"
  },
  "language_info": {
   "codemirror_mode": {
    "name": "ipython",
    "version": 3
   },
   "file_extension": ".py",
   "mimetype": "text/x-python",
   "name": "python",
   "nbconvert_exporter": "python",
   "pygments_lexer": "ipython3",
   "version": "3.8.5"
  }
 },
 "nbformat": 4,
 "nbformat_minor": 4
}
