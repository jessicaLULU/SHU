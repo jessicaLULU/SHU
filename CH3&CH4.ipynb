{
 "cells": [
  {
   "cell_type": "code",
   "execution_count": null,
   "metadata": {},
   "outputs": [],
   "source": [
    "question1 = \"is your birthday in set1?\\n\"+\\\n",
    "\"1 3  57\\n\"+\\\n",
    "\"9 11 13 15\\n\"+\\\n",
    "\"17 19 21 23\\n\"+\\\n",
    "\"25 27 29 31\\n\"+\\\n",
    "\"\\n enter 1 for yes and 0 for no:\"\n",
    "print(question1)"
   ]
  },
  {
   "cell_type": "code",
   "execution_count": null,
   "metadata": {},
   "outputs": [],
   "source": [
    "print(\"hello,world\")\n",
    "print(\"hello,\",end=\"\")\n",
    "print(\"world\")\n",
    "S = \"hello,\"+\\\n",
    "\"world\"\n",
    "print(S)"
   ]
  },
  {
   "cell_type": "code",
   "execution_count": null,
   "metadata": {},
   "outputs": [],
   "source": [
    "a = 100\n",
    "b = 200\n",
    "a = b\n",
    "b = a\n",
    "print(a,b)\n"
   ]
  },
  {
   "cell_type": "code",
   "execution_count": null,
   "metadata": {},
   "outputs": [],
   "source": [
    "a = 100\n",
    "b = 200\n",
    "a,b = b,a\n",
    "print(a,b)\n",
    "#Only for python.It is not recommanded."
   ]
  },
  {
   "cell_type": "code",
   "execution_count": null,
   "metadata": {},
   "outputs": [],
   "source": [
    "a = 10 \n",
    "a += 2\n",
    "print(a)\n",
    "\n",
    "a *= 5\n",
    "print(a)\n",
    "\n",
    "a //= 3\n",
    "print(a)\n",
    "\n",
    "a %= 6\n",
    "print(a)"
   ]
  },
  {
   "cell_type": "code",
   "execution_count": null,
   "metadata": {},
   "outputs": [],
   "source": [
    "k = eval(input())\n",
    "k\n",
    "print(k)"
   ]
  },
  {
   "cell_type": "code",
   "execution_count": null,
   "metadata": {},
   "outputs": [],
   "source": [
    "k"
   ]
  },
  {
   "cell_type": "code",
   "execution_count": null,
   "metadata": {},
   "outputs": [],
   "source": [
    "s = eval(input(\"Please enter an integer:\"))"
   ]
  },
  {
   "cell_type": "code",
   "execution_count": null,
   "metadata": {},
   "outputs": [],
   "source": [
    "s2 = input(\"please enter a string:\")"
   ]
  },
  {
   "cell_type": "code",
   "execution_count": null,
   "metadata": {},
   "outputs": [],
   "source": [
    "num1 = eval(input(\"please enter number1:\"))\n",
    "num2 = eval(input(\"please enter number2:\"))\n",
    "print(num1 + num2)"
   ]
  },
  {
   "cell_type": "code",
   "execution_count": null,
   "metadata": {},
   "outputs": [],
   "source": [
    "num1,num2 = eval(input(\"enter two numbers seperated by comma:\"))\n",
    "print(num1 + num2)"
   ]
  },
  {
   "cell_type": "code",
   "execution_count": null,
   "metadata": {},
   "outputs": [],
   "source": [
    "num1,num2,num3 = eval(input(\"enter three number seperateed by commas\"))\n",
    "total = num1 + num2 + num3\n",
    "average = total/3\n",
    "print(\"total = %d,and average = %f\"%(total,average))"
   ]
  },
  {
   "cell_type": "code",
   "execution_count": null,
   "metadata": {},
   "outputs": [],
   "source": [
    "num1,num2,num3 = eval(input(\"enter three number seperateed by commas\"))\n",
    "total = num1 + num2 + num3\n",
    "average = total/3\n",
    "print(\"total = %d,and average = %.2f\"%(total,average))"
   ]
  },
  {
   "cell_type": "code",
   "execution_count": null,
   "metadata": {},
   "outputs": [],
   "source": [
    "radius = eval(input(\"enter the radius:\"))\n",
    "area = radius*radius*3.14159\n",
    "perimeter = 2*3.14159*radius\n",
    "print(\"area = %.2f\"%(area))\n",
    "print(\"perimeter = %.2f\"%(perimeter))"
   ]
  },
  {
   "cell_type": "code",
   "execution_count": null,
   "metadata": {},
   "outputs": [],
   "source": [
    "import math \n",
    "radius = eval(input(\"enter the radius:\"))\n",
    "area = radius*radius*math.pi\n",
    "perimeter = 2*math.pi*radius\n",
    "print(\"area = %.2f\"%(area))"
   ]
  },
  {
   "cell_type": "code",
   "execution_count": null,
   "metadata": {},
   "outputs": [],
   "source": [
    "#input 3 integers then calculate total and average\n",
    "num1,num2,num3 = eval(input(\"enter three numbers seperated by commas:\"))\n",
    "\n",
    "#calculate total and average\n",
    "total = num1 + num2 + num3\n",
    "average = total/2\n",
    "\n",
    "#display total and average\n",
    "print(\"total = %d,and average = %.2f\"%(total,average))"
   ]
  },
  {
   "cell_type": "code",
   "execution_count": null,
   "metadata": {},
   "outputs": [],
   "source": [
    "a= 100 \n",
    "b = 200\n",
    "c,d = a,b\n",
    "print(c,d)\n",
    "print(c)\n",
    "print(d)\n",
    "print()"
   ]
  },
  {
   "cell_type": "code",
   "execution_count": null,
   "metadata": {},
   "outputs": [],
   "source": [
    "a = 100 \n",
    "b = 200\n",
    "c,d = a,b\n",
    "print(c,d)\n",
    "print(c,end=\"\")\n",
    "print(d,end=\"***\")\n",
    "print(\"over\")"
   ]
  },
  {
   "cell_type": "code",
   "execution_count": null,
   "metadata": {},
   "outputs": [],
   "source": [
    "a = 100\n",
    "b = 200\n",
    "c,d = a,b\n",
    "print(c,d)\n",
    "print(c,end=\"$\")\n",
    "print(\"and\")\n",
    "print(d,end=\"***\")\n",
    "print(\"over\")"
   ]
  },
  {
   "cell_type": "code",
   "execution_count": null,
   "metadata": {},
   "outputs": [],
   "source": [
    "x = 100\n",
    "y = 3\n",
    "print(x * y)\n",
    "print(x / y)\n",
    "print(x // y)\n",
    "print(x % y)\n",
    "print(x ** y)\n",
    "print(x ** 0.5)"
   ]
  },
  {
   "cell_type": "code",
   "execution_count": null,
   "metadata": {},
   "outputs": [],
   "source": [
    "str1 = \"hello\"\n",
    "str2 = \"python\"\n",
    "str3 = str1 + str2\n",
    "print(str3)\n",
    "a = 100\n",
    "b = 200\n",
    "c = a + b\n",
    "print(c)"
   ]
  },
  {
   "cell_type": "code",
   "execution_count": null,
   "metadata": {},
   "outputs": [],
   "source": [
    "str1 = \"hello,\" + \\\n",
    "    \"python,let\\'s learning\"\n",
    "str2 = \"python now\"\n",
    "str3 = str1 + str2\n",
    "print(str3)"
   ]
  },
  {
   "cell_type": "code",
   "execution_count": null,
   "metadata": {},
   "outputs": [],
   "source": [
    "#convert fahreheit to ceisius\n",
    "print(\"fahreheit 212 is celsius degree\")\n",
    "print(5/9*212-32)"
   ]
  },
  {
   "cell_type": "code",
   "execution_count": null,
   "metadata": {},
   "outputs": [],
   "source": [
    "#change a and b\n",
    "a = 100\n",
    "b = 200\n",
    "print(a,b)\n",
    "\n",
    "b = a\n",
    "a = b\n",
    "print(a,b)"
   ]
  },
  {
   "cell_type": "code",
   "execution_count": null,
   "metadata": {},
   "outputs": [],
   "source": [
    "a = eval(input(\"enter an integer:\"))\n",
    "b = a + 100\n",
    "print(a,b)"
   ]
  },
  {
   "cell_type": "code",
   "execution_count": null,
   "metadata": {},
   "outputs": [],
   "source": [
    "a = eval(input(\"enter an integer:\"))\n",
    "b = a + 100\n",
    "print(a,b)"
   ]
  },
  {
   "cell_type": "code",
   "execution_count": null,
   "metadata": {},
   "outputs": [],
   "source": [
    "'''display two messages'''\n",
    "a = 100\n",
    "b = 200\n",
    "print(a,b)"
   ]
  },
  {
   "cell_type": "code",
   "execution_count": null,
   "metadata": {},
   "outputs": [],
   "source": [
    "print(41/5)\n",
    "print(41//5)\n",
    "print(41%5)\n",
    "print(50%5)\n",
    "print(1%2)\n",
    "print(35%3)\n",
    "print(45+4*3*(21*3%2))\n",
    "print(6**3-21)\n",
    "print(100**0.5*2-29)\n"
   ]
  },
  {
   "cell_type": "code",
   "execution_count": 12,
   "metadata": {},
   "outputs": [
    {
     "name": "stdout",
     "output_type": "stream",
     "text": [
      "13\n",
      "39\n",
      "13.0\n",
      "4.0\n",
      "1.0\n"
     ]
    }
   ],
   "source": [
    "a = 10\n",
    "a+=3\n",
    "print(a)\n",
    "a*=3\n",
    "print(a)\n",
    "a/=3\n",
    "print(a)\n",
    "a//=3\n",
    "print(a)\n",
    "a%=3\n",
    "print(a)"
   ]
  },
  {
   "cell_type": "code",
   "execution_count": 14,
   "metadata": {},
   "outputs": [
    {
     "name": "stdout",
     "output_type": "stream",
     "text": [
      "122*****333\n",
      "\n",
      "1$22@@@@@333\n",
      "over\n"
     ]
    }
   ],
   "source": [
    "#output 1\n",
    "print(1,end=\"\")\n",
    "print(22,end=\"*****\")\n",
    "print(333)\n",
    "print()\n",
    "#output 2\n",
    "print(1,end=\"$\")\n",
    "print(22,end=\"@@@@@\")\n",
    "print(333)\n",
    "print(\"over\")"
   ]
  },
  {
   "cell_type": "code",
   "execution_count": 22,
   "metadata": {},
   "outputs": [
    {
     "name": "stdout",
     "output_type": "stream",
     "text": [
      "20 40 60 80 100\n",
      "sum =  300\n",
      "average =  60.0\n"
     ]
    }
   ],
   "source": [
    "print(20,40,60,80,100)\n",
    "a = 20+40+60+80+100\n",
    "print(\"sum = \",a)\n",
    "print(\"average = \",a/5)"
   ]
  },
  {
   "cell_type": "code",
   "execution_count": 23,
   "metadata": {},
   "outputs": [
    {
     "ename": "SyntaxError",
     "evalue": "invalid syntax (<ipython-input-23-f08d2b95c9c0>, line 1)",
     "output_type": "error",
     "traceback": [
      "\u001b[1;36m  File \u001b[1;32m\"<ipython-input-23-f08d2b95c9c0>\"\u001b[1;36m, line \u001b[1;32m1\u001b[0m\n\u001b[1;33m    print(20 40 60 80 100)\u001b[0m\n\u001b[1;37m             ^\u001b[0m\n\u001b[1;31mSyntaxError\u001b[0m\u001b[1;31m:\u001b[0m invalid syntax\n"
     ]
    }
   ],
   "source": [
    "#不使用逗號\n",
    "print(20,40,60,80,100)\n",
    "a = 20+40+60+80+100\n",
    "print(\"sum = \",a)\n",
    "print(\"average = \",a/5)"
   ]
  },
  {
   "cell_type": "code",
   "execution_count": 25,
   "metadata": {},
   "outputs": [
    {
     "name": "stdout",
     "output_type": "stream",
     "text": [
      "44512\n"
     ]
    }
   ],
   "source": [
    "ans = pow(8.5,5) + pow((9.5-3),2) + 100.2\n",
    "print(int(ans))"
   ]
  },
  {
   "cell_type": "code",
   "execution_count": 29,
   "metadata": {},
   "outputs": [
    {
     "name": "stdout",
     "output_type": "stream",
     "text": [
      "enter the length of side:5\n",
      "43.01193501472418\n"
     ]
    }
   ],
   "source": [
    "'''import math \n",
    "math.fabs(-12.34)'''\n",
    "#五邊形公式 : area = (5*s**2)/(4*tan(pi/5))\n",
    "import math\n",
    "side = eval(input(\"enter the length of side:\"))\n",
    "area = (5*side*side)/(4*math.tan(math.pi/5))\n",
    "print(area)"
   ]
  },
  {
   "cell_type": "code",
   "execution_count": 33,
   "metadata": {},
   "outputs": [
    {
     "name": "stdout",
     "output_type": "stream",
     "text": [
      "enter three numbers:3,3,3\n",
      "variance is 0.00,and standand deviation is 0.00\n"
     ]
    }
   ],
   "source": [
    "import math\n",
    "n1,n2,n3 = eval(input(\"enter three numbers:\"))\n",
    "mean = (n1+n2+n3)/3\n",
    "variance = (pow((n1 - mean),2) + pow((n2 - mean),2) + pow((n3 - mean),2))/3\n",
    "sd = math.sqrt(variance)\n",
    "\n",
    "print(\"variance is %.2f,and standand deviation is %.2f\"%(variance,sd))"
   ]
  },
  {
   "cell_type": "code",
   "execution_count": 34,
   "metadata": {},
   "outputs": [
    {
     "name": "stdout",
     "output_type": "stream",
     "text": [
      "888\n",
      "100\n",
      "-888\n",
      "100\n",
      "8\n",
      "6\n",
      "123\n",
      "123.46\n"
     ]
    }
   ],
   "source": [
    "a = -888\n",
    "b = 100\n",
    "c = 10 \n",
    "d = 2\n",
    "e = 0.5\n",
    "print(abs(a))\n",
    "print(max(a,b,c,d,e))\n",
    "print(min(a,b,c,d,e))\n",
    "print(pow(c,d)) #次方\n",
    "print(round(7.5))\n",
    "print(round(6.5))\n",
    "print(int(123.456))\n",
    "print(round(123.456,2))"
   ]
  },
  {
   "cell_type": "code",
   "execution_count": 36,
   "metadata": {},
   "outputs": [
    {
     "name": "stdout",
     "output_type": "stream",
     "text": [
      "123.45\n",
      "9\n",
      "8\n",
      "2.718281828459045\n",
      "4.605170185988092\n",
      "2.0\n",
      "1000.0\n"
     ]
    }
   ],
   "source": [
    "import math\n",
    "a = math.fabs(-123.45)\n",
    "print(a)\n",
    "\n",
    "b = math.ceil(8.8)\n",
    "print(b)\n",
    "\n",
    "c = math.floor(8.8)\n",
    "print(c)\n",
    "\n",
    "d = math.exp(1)\n",
    "print(d)\n",
    "\n",
    "e = math.log(100)\n",
    "print(e)\n",
    "\n",
    "f = math.log(100,10)\n",
    "print(f)\n",
    "\n",
    "g = math.sqrt(1000000)\n",
    "print(g)"
   ]
  },
  {
   "cell_type": "code",
   "execution_count": 38,
   "metadata": {},
   "outputs": [
    {
     "name": "stdout",
     "output_type": "stream",
     "text": [
      "0.0\n",
      "-2.4492935982947064e-16\n",
      "360.0\n",
      "6.283185307179586\n"
     ]
    }
   ],
   "source": [
    "m = math.tan(0)\n",
    "print(m)\n",
    "\n",
    "n = math.tan(2*math.pi)\n",
    "print(n)\n",
    "\n",
    "p = math.degrees(2*math.pi)\n",
    "print(p)\n",
    "\n",
    "q = math.radians(360)\n",
    "print(q)"
   ]
  },
  {
   "cell_type": "code",
   "execution_count": 39,
   "metadata": {},
   "outputs": [
    {
     "name": "stdout",
     "output_type": "stream",
     "text": [
      "apple i8\n",
      "122\n",
      "d\n"
     ]
    }
   ],
   "source": [
    "x =\"apple i\" + str(8)\n",
    "print(x)\n",
    "\n",
    "y = ord(\"z\")\n",
    "print(y)\n",
    "\n",
    "z = chr(100)\n",
    "print(z)"
   ]
  },
  {
   "cell_type": "code",
   "execution_count": 48,
   "metadata": {},
   "outputs": [
    {
     "name": "stdout",
     "output_type": "stream",
     "text": [
      "2.0\n",
      "100.0\n",
      "0.0\n",
      "300\n",
      "101\n",
      "97\n"
     ]
    }
   ],
   "source": [
    "f1 = math.log(10000,10)\n",
    "print(f)\n",
    "\n",
    "g1 = math.sqrt(10000)\n",
    "print(g1)\n",
    "\n",
    "h1 = math.tan(0)\n",
    "print(h1)\n",
    "\n",
    "p1 = max(1,2,4,78,300)\n",
    "print(p1)\n",
    "\n",
    "q1 = abs(-101)\n",
    "print(q1)\n",
    "\n",
    "r1 = ord(\"a\")\n",
    "print(r1)"
   ]
  },
  {
   "cell_type": "code",
   "execution_count": null,
   "metadata": {},
   "outputs": [],
   "source": []
  }
 ],
 "metadata": {
  "kernelspec": {
   "display_name": "Python 3",
   "language": "python",
   "name": "python3"
  },
  "language_info": {
   "codemirror_mode": {
    "name": "ipython",
    "version": 3
   },
   "file_extension": ".py",
   "mimetype": "text/x-python",
   "name": "python",
   "nbconvert_exporter": "python",
   "pygments_lexer": "ipython3",
   "version": "3.8.5"
  }
 },
 "nbformat": 4,
 "nbformat_minor": 4
}
