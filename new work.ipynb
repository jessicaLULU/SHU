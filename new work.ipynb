{
 "cells": [
  {
   "cell_type": "code",
   "execution_count": 1,
   "metadata": {},
   "outputs": [
    {
     "name": "stdout",
     "output_type": "stream",
     "text": [
      "height 23.5 23.5\n",
      "weight 19 19\n",
      "23.5\n",
      "19\n",
      "85.0\n",
      "446.5\n"
     ]
    }
   ],
   "source": [
    "#實作題 3-1\n",
    "height = eval(input(\"height 23.5 \"))\n",
    "weight = eval(input(\"weight 19 \"))\n",
    "perimeter = (height + weight)*2\n",
    "area = height*weight\n",
    "print(height)\n",
    "print(weight)\n",
    "print(perimeter)\n",
    "print(area)"
   ]
  },
  {
   "cell_type": "code",
   "execution_count": 4,
   "metadata": {},
   "outputs": [
    {
     "name": "stdout",
     "output_type": "stream",
     "text": [
      "輸入正三角形的邊長:3\n",
      "height =  2.25\n",
      "area =  446.5\n"
     ]
    }
   ],
   "source": [
    "#實作題 3-2\n",
    "a = eval(input(\"輸入正三角形的邊長:\"))\n",
    "height = 3**1/2/2*a\n",
    "ara = 3**1/2/4*a**2\n",
    "print(\"height = \",height)\n",
    "print(\"area = \",area)"
   ]
  },
  {
   "cell_type": "code",
   "execution_count": 5,
   "metadata": {},
   "outputs": [
    {
     "name": "stdout",
     "output_type": "stream",
     "text": [
      " x(min)5\n",
      " y(sec) 4\n",
      " z(km) 5\n",
      "speed =  0.01644736842105263 km/sec\n"
     ]
    }
   ],
   "source": [
    "#實作題 3-3\n",
    "x = eval(input(\" x(min)\" ))\n",
    "y = eval(input(\" y(sec) \"))\n",
    "z = eval(input(\" z(km) \"))\n",
    "speed = z / (60*x + y)\n",
    "print(\"speed = \",speed,\"km/sec\")"
   ]
  },
  {
   "cell_type": "code",
   "execution_count": 6,
   "metadata": {},
   "outputs": [
    {
     "name": "stdout",
     "output_type": "stream",
     "text": [
      "enter the value of miles:6\n",
      "km =  9.600000000000001\n"
     ]
    }
   ],
   "source": [
    "#實作題 3-4\n",
    "miles = eval(input(\"enter the value of miles:\"))\n",
    "km = miles*1.6\n",
    "print(\"km = \",km)"
   ]
  },
  {
   "cell_type": "code",
   "execution_count": 7,
   "metadata": {},
   "outputs": [
    {
     "name": "stdout",
     "output_type": "stream",
     "text": [
      "enter the value of F:600\n",
      "C =  315.55555555555554\n"
     ]
    }
   ],
   "source": [
    "#實作題 3-5\n",
    "F = eval(input(\"enter the value of F:\"))\n",
    "C = (F - 32)*5/9\n",
    "print(\"C = \",C)"
   ]
  },
  {
   "cell_type": "code",
   "execution_count": 9,
   "metadata": {},
   "outputs": [
    {
     "name": "stdout",
     "output_type": "stream",
     "text": [
      "enter three integers:5,6,7\n",
      "sum =  18\n",
      "average =  6.0\n"
     ]
    }
   ],
   "source": [
    "#實作題 3-6\n",
    "a,b,c = eval(input(\"enter three integers:\"))\n",
    "sum = a+b+c\n",
    "average = sum/3\n",
    "print(\"sum = \",sum)\n",
    "print(\"average = \",average)"
   ]
  },
  {
   "cell_type": "code",
   "execution_count": 10,
   "metadata": {},
   "outputs": [
    {
     "name": "stdout",
     "output_type": "stream",
     "text": [
      "enter your name:ko\n",
      "enter your ID(number):12\n",
      "enter your addressttt\n",
      "name :  ko\n",
      "ID :  12\n",
      "address :  ttt\n"
     ]
    }
   ],
   "source": [
    "#實作題 3-7\n",
    "name = input(\"enter your name:\")\n",
    "ID = eval(input(\"enter your ID(number):\"))\n",
    "address = input(\"enter your address\")\n",
    "print(\"name : \",name)\n",
    "print(\"ID : \",ID)\n",
    "print(\"address : \",address)"
   ]
  },
  {
   "cell_type": "code",
   "execution_count": 11,
   "metadata": {},
   "outputs": [
    {
     "name": "stdout",
     "output_type": "stream",
     "text": [
      "enter the radius of the circle:5\n",
      "area :  78.53975\n",
      "perimeter :  31.4159\n"
     ]
    }
   ],
   "source": [
    "#實作題 3-8\n",
    "radius = eval(input(\"enter the radius of the circle:\"))\n",
    "area = radius*radius*3.14159\n",
    "perimeter = 2*radius*3.14159\n",
    "print(\"area : \",area)\n",
    "print(\"perimeter : \",perimeter)"
   ]
  },
  {
   "cell_type": "code",
   "execution_count": 12,
   "metadata": {},
   "outputs": [
    {
     "name": "stdout",
     "output_type": "stream",
     "text": [
      "enter the length and width:4,5\n",
      "area :  18\n",
      "perimeter :  20\n"
     ]
    }
   ],
   "source": [
    "#實作題 3-9\n",
    "a,b = eval(input(\"enter the length and width:\"))\n",
    "area = 2*(a+b)\n",
    "perimeter = a*b\n",
    "print(\"area : \",area)\n",
    "print(\"perimeter : \",perimeter)"
   ]
  },
  {
   "cell_type": "code",
   "execution_count": 14,
   "metadata": {
    "scrolled": true
   },
   "outputs": [
    {
     "name": "stdout",
     "output_type": "stream",
     "text": [
      "((3+4x)/5)-(10(y-5)(x+y+5)/x)+9(4/x+(9+x)/y)\n",
      "enter the number of x and y:1,2\n",
      "322.4\n"
     ]
    }
   ],
   "source": [
    "#實作題 3-10\n",
    "print(\"((3+4x)/5)-(10(y-5)(x+y+5)/x)+9(4/x+(9+x)/y)\")\n",
    "x,y = eval(input(\"enter the number of x and y:\"))\n",
    "print(((3+4*x)/5)-(10*(y-5)*(x+y+5)/x)+9*(4/x+(9+x)/y))"
   ]
  },
  {
   "cell_type": "code",
   "execution_count": 16,
   "metadata": {},
   "outputs": [
    {
     "name": "stdout",
     "output_type": "stream",
     "text": [
      "enter the number of a,b and c:1,2,3\n",
      "-14.619047619047622\n"
     ]
    }
   ],
   "source": [
    "#實作題 3-11\n",
    "a,b,c = eval(input(\"enter the number of a,b and c:\"))\n",
    "print((4/3*(a+34))-(9*(a+b*c))+(3+3*(2+a))/(a+3*b))"
   ]
  },
  {
   "cell_type": "code",
   "execution_count": 17,
   "metadata": {},
   "outputs": [
    {
     "name": "stdout",
     "output_type": "stream",
     "text": [
      "please enter a number for 邊數:5\n",
      "please enter a number for 邊長:6\n",
      "area =  61.93718642120282\n"
     ]
    }
   ],
   "source": [
    "#實作題 4-1\n",
    "import math\n",
    "n = eval(input(\"please enter a number for 邊數:\"))\n",
    "s = eval(input(\"please enter a number for 邊長:\"))\n",
    "area = (n*s**2)/(4*math.tan(math.pi/n))\n",
    "print(\"area = \",area)"
   ]
  },
  {
   "cell_type": "code",
   "execution_count": 19,
   "metadata": {},
   "outputs": [
    {
     "name": "stdout",
     "output_type": "stream",
     "text": [
      "enter two number:1,2\n",
      "enter two number:3,4\n",
      "(1, 2)\n",
      "(3, 4)\n",
      "distance :  2.8284271247461903\n"
     ]
    }
   ],
   "source": [
    "#實作題 4-2\n",
    "x1,y1 = eval(input(\"enter two number:\"))\n",
    "x2,y2 = eval(input(\"enter two number:\"))\n",
    "distance = ((x1 - x2)**2 + (y1 - y2)**2)**(1/2)\n",
    "print((x1,y1))\n",
    "print((x2,y2))\n",
    "print(\"distance : \",distance)"
   ]
  },
  {
   "cell_type": "code",
   "execution_count": 20,
   "metadata": {},
   "outputs": [
    {
     "name": "stdout",
     "output_type": "stream",
     "text": [
      "enter each side of triangle:5,7,8\n",
      "area :  17.320508075688775\n"
     ]
    }
   ],
   "source": [
    "#實作題 4-3\n",
    "a,b,c = eval(input(\"enter each side of triangle:\"))\n",
    "s = (a+b+c)/2\n",
    "area = (s*(s-a)*(s-b)*(s-c))**(1/2)\n",
    "print(\"area : \",area)"
   ]
  },
  {
   "cell_type": "code",
   "execution_count": 22,
   "metadata": {},
   "outputs": [
    {
     "name": "stdout",
     "output_type": "stream",
     "text": [
      "enter three numbers:1,2,3\n",
      "-8\n"
     ]
    }
   ],
   "source": [
    "#實作題 4-4\n",
    "a,b,c = eval(input(\"enter three numbers:\"))\n",
    "D = b**2 - 4*a*c\n",
    "print(D)"
   ]
  },
  {
   "cell_type": "code",
   "execution_count": 25,
   "metadata": {},
   "outputs": [
    {
     "name": "stdout",
     "output_type": "stream",
     "text": [
      "enter point1(latitude and longitude)in degress:39.55,-166.24\n",
      "enter point2(latitude and longitude)in degress:41.5,87.37\n",
      "enter point1(latitude and longitude)in degress: 39.55 -166.24\n",
      "enter point2(latitude and longitude)in degress: 41.5 87.37\n",
      "the distance between the points is: 11.955963282517887\n"
     ]
    }
   ],
   "source": [
    "#實作題 4-5 ?????\n",
    "x1,y1 = eval(input(\"enter point1(latitude and longitude)in degress:\"))\n",
    "x2,y2 = eval(input(\"enter point2(latitude and longitude)in degress:\"))\n",
    "import math\n",
    "d = radius*math.acos(math.sin(x1)*math.sin(x2) + math.cos(x1)*math.cos(x2)*math.cos(y1 - y2))\n",
    "print(\"enter point1(latitude and longitude)in degress:\",x1,y1)\n",
    "print(\"enter point2(latitude and longitude)in degress:\",x2,y2)\n",
    "print(\"the distance between the points is:\",d)"
   ]
  },
  {
   "cell_type": "code",
   "execution_count": 26,
   "metadata": {},
   "outputs": [
    {
     "name": "stdout",
     "output_type": "stream",
     "text": [
      "enter the price:9000000\n",
      "7200000.0\n"
     ]
    }
   ],
   "source": [
    "#實作題 5-1\n",
    "price = eval(input(\"enter the price:\"))\n",
    "if price >= 35000:\n",
    "    NewPrice = price*0.8\n",
    "    print(NewPrice)\n",
    "elif price >= 25000:\n",
    "    NewPrice = price*0.85\n",
    "    print(NewPrice)\n",
    "elif price >= 15000:\n",
    "    NewPrice = price*0.9\n",
    "    print(NewPrice)\n",
    "elif price >= 5000:\n",
    "    NewPrice = price*0.95\n",
    "    print(NewPrice)\n",
    "else:\n",
    "    print(\"ㄅㄅ\")"
   ]
  },
  {
   "cell_type": "code",
   "execution_count": 29,
   "metadata": {},
   "outputs": [
    {
     "ename": "SyntaxError",
     "evalue": "invalid syntax (<ipython-input-29-73284538f643>, line 3)",
     "output_type": "error",
     "traceback": [
      "\u001b[1;36m  File \u001b[1;32m\"<ipython-input-29-73284538f643>\"\u001b[1;36m, line \u001b[1;32m3\u001b[0m\n\u001b[1;33m    if number >= 10:\u001b[0m\n\u001b[1;37m                   ^\u001b[0m\n\u001b[1;31mSyntaxError\u001b[0m\u001b[1;31m:\u001b[0m invalid syntax\n"
     ]
    }
   ],
   "source": [
    "#實作題 5-2\n",
    "number = eval(input(\"enter a number from 1 to 12:\")\n",
    "if number >= 10:\n",
    "    print(\"winter\")\n",
    "elif number >= 7:\n",
    "    print(\"autumn\")\n",
    "elif number >= 4:\n",
    "    print(\"summer\")\n",
    "else:\n",
    "    print(\"spring\")"
   ]
  },
  {
   "cell_type": "code",
   "execution_count": 31,
   "metadata": {},
   "outputs": [
    {
     "name": "stdout",
     "output_type": "stream",
     "text": [
      "please enter your age:90\n",
      "399\n"
     ]
    }
   ],
   "source": [
    "#實作題 5-3\n",
    "age = eval(input(\"please enter your age:\"))\n",
    "if age >= 60:\n",
    "    print(\"399\")\n",
    "elif age >= 18:\n",
    "    print(\"890\")\n",
    "elif age >= 12:\n",
    "    print(\"790\")\n",
    "elif age >= 6:\n",
    "    print(\"590\")\n",
    "else:\n",
    "    print(\"free\")"
   ]
  },
  {
   "cell_type": "code",
   "execution_count": 32,
   "metadata": {},
   "outputs": [
    {
     "name": "stdout",
     "output_type": "stream",
     "text": [
      "enter a integer:8\n",
      "不是三或五的倍數\n"
     ]
    }
   ],
   "source": [
    "#實作題 5-4\n",
    "int = eval(input(\"enter a integer:\"))\n",
    "if int/3 == 0:\n",
    "    print(\"int為三的倍數\")\n",
    "elif int/5 == 0:\n",
    "    print(\"int為五的倍數\")\n",
    "else:\n",
    "    print(\"不是三或五的倍數\")"
   ]
  },
  {
   "cell_type": "code",
   "execution_count": 33,
   "metadata": {},
   "outputs": [
    {
     "ename": "SyntaxError",
     "evalue": "invalid syntax (<ipython-input-33-75bbfbbe7a9c>, line 3)",
     "output_type": "error",
     "traceback": [
      "\u001b[1;36m  File \u001b[1;32m\"<ipython-input-33-75bbfbbe7a9c>\"\u001b[1;36m, line \u001b[1;32m3\u001b[0m\n\u001b[1;33m    if\u001b[0m\n\u001b[1;37m       ^\u001b[0m\n\u001b[1;31mSyntaxError\u001b[0m\u001b[1;31m:\u001b[0m invalid syntax\n"
     ]
    }
   ],
   "source": [
    "#實作題 5-5\n",
    "word = input(\"enter a word:\")\n",
    "if "
   ]
  },
  {
   "cell_type": "code",
   "execution_count": 34,
   "metadata": {},
   "outputs": [
    {
     "name": "stdout",
     "output_type": "stream",
     "text": [
      "enter a number:6000000\n",
      "1570400.0\n"
     ]
    }
   ],
   "source": [
    "#實作題 5-6\n",
    "number = eval(input(\"enter a number:\"))\n",
    "if number >= 10310001:\n",
    "    print(number*0.45 - 1345100)\n",
    "elif number >= 4530001:\n",
    "    print(number*0.4 - 829600)\n",
    "elif number >= 2420001:\n",
    "    print(number*0.3 - 376600)\n",
    "elif number >= 1210001:\n",
    "    print(number*0.2 - 134600)\n",
    "elif number >= 540001:\n",
    "    print(number*0.12 - 37800)\n",
    "else:\n",
    "    print(number*0.05)"
   ]
  },
  {
   "cell_type": "code",
   "execution_count": 35,
   "metadata": {},
   "outputs": [
    {
     "name": "stdout",
     "output_type": "stream",
     "text": [
      "enter two number:4,5\n",
      "點在圓內\n"
     ]
    }
   ],
   "source": [
    "#實作題 5-7\n",
    "x,y = eval(input(\"enter two number:\"))\n",
    "distance = ((x**2 + y**2))**(1/2)\n",
    "if distance > 10:\n",
    "    print(\"點在圓外\")\n",
    "elif distance == 10:\n",
    "    print(\"點在圓上\")\n",
    "else:\n",
    "    print(\"點在圓內\")"
   ]
  },
  {
   "cell_type": "code",
   "execution_count": 36,
   "metadata": {},
   "outputs": [
    {
     "ename": "SyntaxError",
     "evalue": "invalid syntax (<ipython-input-36-a26630fb43fb>, line 4)",
     "output_type": "error",
     "traceback": [
      "\u001b[1;36m  File \u001b[1;32m\"<ipython-input-36-a26630fb43fb>\"\u001b[1;36m, line \u001b[1;32m4\u001b[0m\n\u001b[1;33m    if number = d*1000 + c*100 + b*10 + a:\u001b[0m\n\u001b[1;37m              ^\u001b[0m\n\u001b[1;31mSyntaxError\u001b[0m\u001b[1;31m:\u001b[0m invalid syntax\n"
     ]
    }
   ],
   "source": [
    "#實作題 5-8\n",
    "a,b,c,d = eval(input(\"輸入一個四位數字用逗號間隔:\"))\n",
    "number = a*1000 + b*100 + c*10 + d\n",
    "if number = d*1000 + c*100 + b*10 + a:\n",
    "    print(\"it is a palindrome number\")\n",
    "else:\n",
    "    print(\"it is not a palindrome number\")"
   ]
  },
  {
   "cell_type": "code",
   "execution_count": 37,
   "metadata": {},
   "outputs": [
    {
     "name": "stdout",
     "output_type": "stream",
     "text": [
      "enter three numbers:7,8,9\n",
      "area :  26.832815729997478\n"
     ]
    }
   ],
   "source": [
    "#實作題 5-9\n",
    "s1,s2,s3 = eval(input(\"enter three numbers:\"))\n",
    "s1 + s2 > s3 or s1 + s3 > s2 or s2 + s3 > s1\n",
    "s = (s1+s2+s3)/2\n",
    "area = (s*(s-s1)*(s-s2)*(s-s3))**(1/2)\n",
    "print(\"area : \",area)"
   ]
  },
  {
   "cell_type": "code",
   "execution_count": 38,
   "metadata": {},
   "outputs": [],
   "source": [
    "#實作題 5-10"
   ]
  },
  {
   "cell_type": "code",
   "execution_count": 39,
   "metadata": {},
   "outputs": [
    {
     "name": "stdout",
     "output_type": "stream",
     "text": [
      "1.9599959995999598\n"
     ]
    }
   ],
   "source": [
    "#實作題 6-1\n",
    "num = 0\n",
    "total = 0\n",
    "for i in range(1,98,2):\n",
    "    for j in range(3,100,2):\n",
    "        num = i/j\n",
    "        total = num + (i+2)/(j+2)\n",
    "print(total)"
   ]
  },
  {
   "cell_type": "code",
   "execution_count": 40,
   "metadata": {},
   "outputs": [
    {
     "name": "stdout",
     "output_type": "stream",
     "text": [
      "有幾位員工:6\n",
      "總銷售額:89\n"
     ]
    }
   ],
   "source": [
    "#實作題 6-2\n",
    "a = eval(input(\"有幾位員工:\"))\n",
    "b = eval(input(\"總銷售額:\"))\n"
   ]
  },
  {
   "cell_type": "code",
   "execution_count": 42,
   "metadata": {},
   "outputs": [
    {
     "ename": "KeyboardInterrupt",
     "evalue": "",
     "output_type": "error",
     "traceback": [
      "\u001b[1;31m---------------------------------------------------------------------------\u001b[0m",
      "\u001b[1;31mKeyboardInterrupt\u001b[0m                         Traceback (most recent call last)",
      "\u001b[1;32m<ipython-input-42-7d4a9bbf7dae>\u001b[0m in \u001b[0;36m<module>\u001b[1;34m\u001b[0m\n\u001b[0;32m      9\u001b[0m         \u001b[0mnum1\u001b[0m \u001b[1;33m=\u001b[0m \u001b[1;36m1\u001b[0m\u001b[1;33m/\u001b[0m\u001b[0mn1\u001b[0m\u001b[1;33m\u001b[0m\u001b[1;33m\u001b[0m\u001b[0m\n\u001b[0;32m     10\u001b[0m         \u001b[0mtotal\u001b[0m \u001b[1;33m=\u001b[0m \u001b[1;36m1\u001b[0m\u001b[1;33m/\u001b[0m\u001b[0mn\u001b[0m \u001b[1;33m+\u001b[0m \u001b[1;36m1\u001b[0m\u001b[1;33m/\u001b[0m\u001b[1;33m(\u001b[0m\u001b[0mn\u001b[0m\u001b[1;33m+\u001b[0m\u001b[1;36m1\u001b[0m\u001b[1;33m)\u001b[0m\u001b[1;33m\u001b[0m\u001b[1;33m\u001b[0m\u001b[0m\n\u001b[1;32m---> 11\u001b[1;33m         \u001b[0mtotal1\u001b[0m \u001b[1;33m=\u001b[0m \u001b[1;36m1\u001b[0m\u001b[1;33m/\u001b[0m\u001b[0mn1\u001b[0m \u001b[1;33m+\u001b[0m \u001b[1;36m1\u001b[0m\u001b[1;33m/\u001b[0m\u001b[1;33m(\u001b[0m\u001b[0mn1\u001b[0m\u001b[1;33m+\u001b[0m\u001b[1;36m1\u001b[0m\u001b[1;33m)\u001b[0m\u001b[1;33m\u001b[0m\u001b[1;33m\u001b[0m\u001b[0m\n\u001b[0m\u001b[0;32m     12\u001b[0m \u001b[0mprint\u001b[0m\u001b[1;33m(\u001b[0m\u001b[0mtotal\u001b[0m\u001b[1;33m)\u001b[0m\u001b[1;33m\u001b[0m\u001b[1;33m\u001b[0m\u001b[0m\n\u001b[0;32m     13\u001b[0m \u001b[0mprint\u001b[0m\u001b[1;33m(\u001b[0m\u001b[0mtotal1\u001b[0m\u001b[1;33m)\u001b[0m\u001b[1;33m\u001b[0m\u001b[1;33m\u001b[0m\u001b[0m\n",
      "\u001b[1;31mKeyboardInterrupt\u001b[0m: "
     ]
    }
   ],
   "source": [
    "#實作題 6-3\n",
    "num = 0\n",
    "num1 = 0\n",
    "total = 0\n",
    "total1 = 0\n",
    "for n in range(1,60000):\n",
    "    for n1 in range(60000,1,-1):\n",
    "        num = 1/n\n",
    "        num1 = 1/n1 \n",
    "        total = 1/n + 1/(n+1)\n",
    "        total1 = 1/n1 + 1/(n1+1)\n",
    "print(total)\n",
    "print(total1)"
   ]
  },
  {
   "cell_type": "code",
   "execution_count": 43,
   "metadata": {},
   "outputs": [
    {
     "name": "stdout",
     "output_type": "stream",
     "text": [
      "9.97012949204186e-06\n"
     ]
    }
   ],
   "source": [
    "#實作題 6-4\n",
    "for i in range(2,200):\n",
    "    for j in range(3,201):\n",
    "        total = 1/(i*(1/2) + j/(1/2)) - 1/((i+1)*(1/2) + (j+1)/(1/2))\n",
    "print(total)"
   ]
  },
  {
   "cell_type": "code",
   "execution_count": 55,
   "metadata": {},
   "outputs": [
    {
     "ename": "KeyboardInterrupt",
     "evalue": "",
     "output_type": "error",
     "traceback": [
      "\u001b[1;31m---------------------------------------------------------------------------\u001b[0m",
      "\u001b[1;31mKeyboardInterrupt\u001b[0m                         Traceback (most recent call last)",
      "\u001b[1;32m<ipython-input-55-c8c1e6067134>\u001b[0m in \u001b[0;36m<module>\u001b[1;34m\u001b[0m\n\u001b[0;32m      6\u001b[0m     \u001b[0mnumber\u001b[0m \u001b[1;33m=\u001b[0m \u001b[1;36m52800\u001b[0m\u001b[1;33m*\u001b[0m\u001b[1;33m(\u001b[0m\u001b[1;36m1.2\u001b[0m\u001b[1;33m)\u001b[0m\u001b[1;33m\u001b[0m\u001b[1;33m\u001b[0m\u001b[0m\n\u001b[0;32m      7\u001b[0m     \u001b[0mtotal\u001b[0m \u001b[1;33m=\u001b[0m \u001b[1;36m52800\u001b[0m\u001b[1;33m*\u001b[0m\u001b[1;33m(\u001b[0m\u001b[1;36m1.2\u001b[0m\u001b[1;33m)\u001b[0m\u001b[1;33m**\u001b[0m\u001b[0mn\u001b[0m\u001b[1;33m\u001b[0m\u001b[1;33m\u001b[0m\u001b[0m\n\u001b[1;32m----> 8\u001b[1;33m     \u001b[1;32mif\u001b[0m \u001b[0mtotal\u001b[0m \u001b[1;33m>=\u001b[0m \u001b[1;36m70000\u001b[0m\u001b[1;33m:\u001b[0m\u001b[1;33m\u001b[0m\u001b[1;33m\u001b[0m\u001b[0m\n\u001b[0m\u001b[0;32m      9\u001b[0m         \u001b[1;32mbreak\u001b[0m\u001b[1;33m\u001b[0m\u001b[1;33m\u001b[0m\u001b[0m\n\u001b[0;32m     10\u001b[0m \u001b[0mprint\u001b[0m\u001b[1;33m(\u001b[0m\u001b[0mtotal\u001b[0m\u001b[1;33m)\u001b[0m\u001b[1;33m\u001b[0m\u001b[1;33m\u001b[0m\u001b[0m\n",
      "\u001b[1;31mKeyboardInterrupt\u001b[0m: "
     ]
    }
   ],
   "source": [
    "#實作題 6-5\n",
    "n = 0\n",
    "number = 0\n",
    "total = 0\n",
    "while True:\n",
    "    number = 52800*(1.2)\n",
    "    total = 52800*(1.2)**n\n",
    "    if total >= 70000:\n",
    "        break\n",
    "print(total)"
   ]
  },
  {
   "cell_type": "code",
   "execution_count": 56,
   "metadata": {},
   "outputs": [
    {
     "name": "stdout",
     "output_type": "stream",
     "text": [
      "2104,2108,2112,2116,2120,2124,2128,2132,2136,2140,2144,2148,2152,2156,2160,2164,2168,2172,2176,2180,2184,2188,2192,2196,"
     ]
    }
   ],
   "source": [
    "#實作題 6-6\n",
    "for i in range(2100,2200):\n",
    "    if i % 400 == 0 or i % 4 == 0 and i % 100 != 0:\n",
    "        print(i,end=\",\") "
   ]
  },
  {
   "cell_type": "code",
   "execution_count": null,
   "metadata": {},
   "outputs": [],
   "source": [
    "#實作題 6-7"
   ]
  },
  {
   "cell_type": "code",
   "execution_count": 48,
   "metadata": {},
   "outputs": [
    {
     "name": "stdout",
     "output_type": "stream",
     "text": [
      "evennumber: 57\n",
      "oddnumber: 43\n"
     ]
    }
   ],
   "source": [
    "#實作題 6-8\n",
    "evennumber = 0\n",
    "oddnumber = 0\n",
    "import random\n",
    "for i in range(1,101):\n",
    "    i = random.randint(1,200)\n",
    "    if i % 2 == 0:\n",
    "        evennumber = evennumber + 1\n",
    "    else:\n",
    "        oddnumber = oddnumber + 1\n",
    "print(\"evennumber:\",evennumber)\n",
    "print(\"oddnumber:\",oddnumber)"
   ]
  },
  {
   "cell_type": "code",
   "execution_count": 50,
   "metadata": {},
   "outputs": [
    {
     "name": "stdout",
     "output_type": "stream",
     "text": [
      "enter a number:6\n",
      "enter a number:-1\n"
     ]
    }
   ],
   "source": [
    "#實作題 6-9\n",
    "while True:\n",
    "    number = eval(input(\"enter a number:\"))\n",
    "    if number == -1:\n",
    "        break"
   ]
  },
  {
   "cell_type": "code",
   "execution_count": 53,
   "metadata": {},
   "outputs": [
    {
     "name": "stdout",
     "output_type": "stream",
     "text": [
      "輸入兩個年份:0,1000\n",
      "0,4,8,12,16,20,24,28,32,36,40,44,48,52,56,60,64,68,72,76,80,84,88,92,96,104,108,112,116,120,124,128,132,136,140,144,148,152,156,160,164,168,172,176,180,184,188,192,196,204,208,212,216,220,224,228,232,236,240,244,248,252,256,260,264,268,272,276,280,284,288,292,296,304,308,312,316,320,324,328,332,336,340,344,348,352,356,360,364,368,372,376,380,384,388,392,396,400,404,408,412,416,420,424,428,432,436,440,444,448,452,456,460,464,468,472,476,480,484,488,492,496,504,508,512,516,520,524,528,532,536,540,544,548,552,556,560,564,568,572,576,580,584,588,592,596,604,608,612,616,620,624,628,632,636,640,644,648,652,656,660,664,668,672,676,680,684,688,692,696,704,708,712,716,720,724,728,732,736,740,744,748,752,756,760,764,768,772,776,780,784,788,792,796,800,804,808,812,816,820,824,828,832,836,840,844,848,852,856,860,864,868,872,876,880,884,888,892,896,904,908,912,916,920,924,928,932,936,940,944,948,952,956,960,964,968,972,976,980,984,988,992,996,"
     ]
    }
   ],
   "source": [
    "#實作題 6-10\n",
    "i = 0\n",
    "year1,year2 = eval(input(\"輸入兩個年份:\"))\n",
    "for i in range(year1,year2):\n",
    "    if i % 400 == 0 or i % 4 == 0 and i % 100 != 0:\n",
    "        print(i,end=\",\")"
   ]
  }
 ],
 "metadata": {
  "kernelspec": {
   "display_name": "Python 3",
   "language": "python",
   "name": "python3"
  },
  "language_info": {
   "codemirror_mode": {
    "name": "ipython",
    "version": 3
   },
   "file_extension": ".py",
   "mimetype": "text/x-python",
   "name": "python",
   "nbconvert_exporter": "python",
   "pygments_lexer": "ipython3",
   "version": "3.8.5"
  }
 },
 "nbformat": 4,
 "nbformat_minor": 4
}
